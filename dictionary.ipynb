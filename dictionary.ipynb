{
 "cells": [
  {
   "cell_type": "code",
   "execution_count": 1,
   "id": "ed2d3857",
   "metadata": {},
   "outputs": [],
   "source": [
    "import pandas as pd"
   ]
  },
  {
   "cell_type": "code",
   "execution_count": 2,
   "id": "400f4d4a",
   "metadata": {},
   "outputs": [],
   "source": [
    "data = pd.read_excel('IR_Spring2021_ph12_7k.xlsx')"
   ]
  },
  {
   "cell_type": "code",
   "execution_count": 3,
   "id": "aec2cfed",
   "metadata": {},
   "outputs": [],
   "source": [
    "#normalize 1 method\n",
    "def normalize1(myList):\n",
    "    \"\"\"\"\n",
    "    we should remove some specific characters eg: we do not save dot in the end of sentence with the last word\n",
    "    we just need to remove if these specific chars are at the last of our word\n",
    "    \"\"\"\n",
    "    for i in range(len(myList)):\n",
    "        if myList[i].endswith('.'):\n",
    "            myList[i] = myList[i].replace('.','')\n",
    "        elif myList[i].endswith('،'):\n",
    "            myList[i] = myList[i].replace('،','')\n",
    "        elif myList[i].endswith(':'):\n",
    "            myList[i] = myList[i].replace(':','')\n",
    "        else:\n",
    "            pass\n",
    "    #the two last members means end of message and it is in all docs so we do not need it\n",
    "    myList.pop()\n",
    "    myList.pop()"
   ]
  },
  {
   "cell_type": "code",
   "execution_count": 1,
   "id": "f002a8f1",
   "metadata": {},
   "outputs": [],
   "source": [
    "#class below is for holding single id and single url\n",
    "class holder:\n",
    "    def __init__(self,ID = 0,url = None):\n",
    "        self.ID = ID\n",
    "        self.url = url\n",
    "    def __eq__(self,obj):\n",
    "        return str(self.ID)+self.url == str(obj.ID)+obj.url\n",
    "    def __str__(self):\n",
    "        return str(self.ID)+' '+self.url"
   ]
  },
  {
   "cell_type": "code",
   "execution_count": 2,
   "id": "11404fc5",
   "metadata": {},
   "outputs": [],
   "source": [
    "#class below is for holding term frequency and list of holder classess\n",
    "class termValue:\n",
    "    def __init__(self):\n",
    "        self.frequency = 0\n",
    "        self.holderList = []\n",
    "    def addHolder(self,newHolder):\n",
    "        if newHolder not in self.holderList:\n",
    "            self.holderList.append(newHolder)"
   ]
  },
  {
   "cell_type": "code",
   "execution_count": 3,
   "id": "50cf040a",
   "metadata": {},
   "outputs": [],
   "source": [
    "#function below if for creating our dictionary\n",
    "def createDictionary(myData):\n",
    "    #dictionary data structure below is for holding term and frequency and holderLists\n",
    "    #finally our form is like {term:(freq,[listOfHolders])}\n",
    "    #dictionary[term] is termValue class object that contains freq+lisOfHolders that is object of holder class\n",
    "    termDictionary = {}\n",
    "    for counter in range(len(myData)):\n",
    "        x = myData['content'][counter].split()\n",
    "        y = myData['id'][counter]\n",
    "        z = myData['url'][counter]\n",
    "        normalize1(x)\n",
    "        for i in x:\n",
    "            if i not in termDictionary:\n",
    "                termDictionary[i] = termValue()\n",
    "                myHolder = holder(y,z)\n",
    "                termDictionary[i].addHolder(myHolder)\n",
    "            else:\n",
    "                myHolder = holder(y,z)\n",
    "                termDictionary[i].addHolder(myHolder)\n",
    "    return termDictionary"
   ]
  },
  {
   "cell_type": "code",
   "execution_count": 11,
   "id": "868842b6",
   "metadata": {},
   "outputs": [],
   "source": [
    "termDictionary = createDictionary(data)"
   ]
  },
  {
   "cell_type": "code",
   "execution_count": 5,
   "id": "c5cf36a5",
   "metadata": {},
   "outputs": [],
   "source": [
    "#function below is for calculating frequency of each term\n",
    "def frequencyCalc(myDictionary):\n",
    "    for i in myDictionary:\n",
    "        myDictionary[i].frequency = len(myDictionary[i].holderList)\n",
    "frequencyCalc(termDictionary)"
   ]
  },
  {
   "cell_type": "code",
   "execution_count": 6,
   "id": "cb8a622c",
   "metadata": {},
   "outputs": [],
   "source": [
    "#function below is for printing our whole dictionary\n",
    "def printDictionary(myDictionary):\n",
    "    for i in myDictionary:\n",
    "        print('term:',i)\n",
    "        print('frequency:',myDictionary[i].frequency)\n",
    "        print('--postings--')\n",
    "        for j in myDictionary[i].holderList:\n",
    "            print(j)\n",
    "        print('-----------------------------------------------------------')\n",
    "printDictionary(termDictionary)"
   ]
  },
  {
   "cell_type": "code",
   "execution_count": 29,
   "id": "ec37ec94",
   "metadata": {},
   "outputs": [],
   "source": [
    "#algorithm below is for writing our dictionary to text file\n",
    "textFile = open('dictionary.txt','a',encoding = 'UTF-8')\n",
    "for i in termDictionary:\n",
    "    for j in termDictionary[i].holderList:\n",
    "        textFile.write(str(i)+'$'+str(j.ID)+'$'+str(j.url)+'\\n')\n",
    "textFile.close()"
   ]
  },
  {
   "cell_type": "code",
   "execution_count": 7,
   "id": "9f6310c2",
   "metadata": {},
   "outputs": [],
   "source": [
    "#algorithm below is for retrieval of dictionary\n",
    "myFile = open('dictionary.txt',encoding = 'UTF-8')\n",
    "a = {}\n",
    "for i in myFile:\n",
    "    res = i.split('$')\n",
    "    if res[0] not in a:\n",
    "        a[res[0]] = termValue()\n",
    "        myHolder = holder(res[1],res[2])\n",
    "        a[res[0]].addHolder(myHolder)\n",
    "    else:\n",
    "        myHolder = holder(res[1],res[2])\n",
    "        a[res[0]].addHolder(myHolder)\n",
    "myFile.close()"
   ]
  },
  {
   "cell_type": "code",
   "execution_count": 8,
   "id": "2ea42a0c",
   "metadata": {},
   "outputs": [],
   "source": [
    "frequencyCalc(a)"
   ]
  },
  {
   "cell_type": "code",
   "execution_count": 12,
   "id": "527794ad",
   "metadata": {},
   "outputs": [],
   "source": [
    "def merge(term1,term2,myDictionary):\n",
    "    answerList = []\n",
    "    if term1 not in myDictionary or term2 not in myDictionary:\n",
    "        print('no result')\n",
    "    else:\n",
    "        term1List = myDictionary[term1].holderList\n",
    "        term2List = myDictionary[term2].holderList\n",
    "        len1 = len(term1List)\n",
    "        len2 = len(term2List)\n",
    "        i,j = 0,0\n",
    "        while i < len1 and j < len2:\n",
    "            if term1List[i].ID == term2List[j].ID:\n",
    "                answerList.append(term1List[i])\n",
    "                i += 1\n",
    "                j += 1\n",
    "            elif term1List[i].ID < term2List[j].ID:\n",
    "                i += 1\n",
    "            else:\n",
    "                j += 1\n",
    "    return answerList"
   ]
  },
  {
   "cell_type": "code",
   "execution_count": 17,
   "id": "f5365c01",
   "metadata": {},
   "outputs": [],
   "source": [
    "def engine(myDictionary):\n",
    "    res = []\n",
    "    query = input('enter query: ')\n",
    "    queryList = query.split()\n",
    "    queryListLen = len(queryList)\n",
    "    if queryListLen == 1:\n",
    "        res = merge(queryList[0],queryList[0],myDictionary)\n",
    "        for i in res:\n",
    "            print(i)\n",
    "    elif queryListLen == 2:\n",
    "        res = merge(queryList[0],queryList[1],myDictionary)\n",
    "        for i in res:\n",
    "            print(i)\n",
    "    elif queryListLen == 3:\n",
    "        print('not ready yet')\n",
    "    else:\n",
    "        print('this engine does not support....')"
   ]
  },
  {
   "cell_type": "code",
   "execution_count": 24,
   "id": "bc91a719",
   "metadata": {
    "scrolled": true
   },
   "outputs": [
    {
     "name": "stdout",
     "output_type": "stream",
     "text": [
      "enter query: هاپ هاپ میو\n",
      "not ready yet\n"
     ]
    }
   ],
   "source": [
    "engine(a)"
   ]
  }
 ],
 "metadata": {
  "kernelspec": {
   "display_name": "Python 3",
   "language": "python",
   "name": "python3"
  },
  "language_info": {
   "codemirror_mode": {
    "name": "ipython",
    "version": 3
   },
   "file_extension": ".py",
   "mimetype": "text/x-python",
   "name": "python",
   "nbconvert_exporter": "python",
   "pygments_lexer": "ipython3",
   "version": "3.8.8"
  }
 },
 "nbformat": 4,
 "nbformat_minor": 5
}
