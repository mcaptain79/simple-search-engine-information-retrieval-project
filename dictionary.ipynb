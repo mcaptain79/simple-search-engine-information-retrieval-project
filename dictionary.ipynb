{
 "cells": [
  {
   "cell_type": "code",
   "execution_count": 1,
   "id": "ed2d3857",
   "metadata": {},
   "outputs": [],
   "source": [
    "import pandas as pd"
   ]
  },
  {
   "cell_type": "code",
   "execution_count": 2,
   "id": "400f4d4a",
   "metadata": {},
   "outputs": [],
   "source": [
    "data = pd.read_excel('IR_Spring2021_ph12_7k.xlsx')"
   ]
  },
  {
   "cell_type": "code",
   "execution_count": 3,
   "id": "aec2cfed",
   "metadata": {},
   "outputs": [],
   "source": [
    "#normalize 1 method\n",
    "def normalize1(myList):\n",
    "    \"\"\"\"\n",
    "    we should remove some specific characters eg: we do not save dot in the end of sentence with the last word\n",
    "    we just need to remove if these specific chars are at the last of our word\n",
    "    \"\"\"\n",
    "    for i in range(len(myList)):\n",
    "        if myList[i].endswith('.'):\n",
    "            myList[i] = myList[i].replace('.','')\n",
    "        elif myList[i].endswith('،'):\n",
    "            myList[i] = myList[i].replace('،','')\n",
    "        elif myList[i].endswith(':'):\n",
    "            myList[i] = myList[i].replace(':','')\n",
    "        else:\n",
    "            pass\n",
    "    #the two last members means end of message and it is in all docs so we do not need it\n",
    "    myList.pop()\n",
    "    myList.pop()"
   ]
  },
  {
   "cell_type": "code",
   "execution_count": 1,
   "id": "f002a8f1",
   "metadata": {},
   "outputs": [],
   "source": [
    "#class below is for holding single id and single url\n",
    "class holder:\n",
    "    def __init__(self,ID = 0,url = None):\n",
    "        self.ID = ID\n",
    "        self.url = url\n",
    "    def __eq__(self,obj):\n",
    "        return str(self.ID)+self.url == str(obj.ID)+obj.url\n",
    "    def __str__(self):\n",
    "        return str(self.ID)+' '+self.url"
   ]
  },
  {
   "cell_type": "code",
   "execution_count": 2,
   "id": "11404fc5",
   "metadata": {},
   "outputs": [],
   "source": [
    "#class below is for holding term frequency and list of holder classess\n",
    "class termValue:\n",
    "    def __init__(self):\n",
    "        self.frequency = 0\n",
    "        self.holderList = []\n",
    "    def addHolder(self,newHolder):\n",
    "        if newHolder not in self.holderList:\n",
    "            self.holderList.append(newHolder)"
   ]
  },
  {
   "cell_type": "code",
   "execution_count": 3,
   "id": "50cf040a",
   "metadata": {},
   "outputs": [],
   "source": [
    "#function below if for creating our dictionary\n",
    "def createDictionary(myData):\n",
    "    #dictionary data structure below is for holding term and frequency and holderLists\n",
    "    #finally our form is like {term:(freq,[listOfHolders])}\n",
    "    #dictionary[term] is termValue class object that contains freq+lisOfHolders that is object of holder class\n",
    "    termDictionary = {}\n",
    "    for counter in range(len(myData)):\n",
    "        x = myData['content'][counter].split()\n",
    "        y = myData['id'][counter]\n",
    "        z = myData['url'][counter]\n",
    "        normalize1(x)\n",
    "        for i in x:\n",
    "            if i not in termDictionary:\n",
    "                termDictionary[i] = termValue()\n",
    "                myHolder = holder(y,z)\n",
    "                termDictionary[i].addHolder(myHolder)\n",
    "            else:\n",
    "                myHolder = holder(y,z)\n",
    "                termDictionary[i].addHolder(myHolder)\n",
    "    return termDictionary"
   ]
  },
  {
   "cell_type": "code",
   "execution_count": 11,
   "id": "868842b6",
   "metadata": {},
   "outputs": [],
   "source": [
    "termDictionary = createDictionary(data)"
   ]
  },
  {
   "cell_type": "code",
   "execution_count": 4,
   "id": "c5cf36a5",
   "metadata": {
    "scrolled": true
   },
   "outputs": [],
   "source": [
    "#function below is for calculating frequency of each term\n",
    "def frequencyCalc(myDictionary):\n",
    "    for i in myDictionary:\n",
    "        myDictionary[i].frequency = len(myDictionary[i].holderList)\n",
    "frequencyCalc(termDictionary)"
   ]
  },
  {
   "cell_type": "code",
   "execution_count": 5,
   "id": "cb8a622c",
   "metadata": {},
   "outputs": [],
   "source": [
    "#function below is for printing our whole dictionary\n",
    "def printDictionary(myDictionary):\n",
    "    for i in myDictionary:\n",
    "        print('term:',i)\n",
    "        print('frequency:',myDictionary[i].frequency)\n",
    "        print('--postings--')\n",
    "        for j in myDictionary[i].holderList:\n",
    "            print(j)\n",
    "        print('-----------------------------------------------------------')\n",
    "printDictionary(termDictionary)"
   ]
  },
  {
   "cell_type": "code",
   "execution_count": 29,
   "id": "ec37ec94",
   "metadata": {},
   "outputs": [],
   "source": [
    "#algorithm below is for writing our dictionary to text file\n",
    "textFile = open('dictionary.txt','a',encoding = 'UTF-8')\n",
    "for i in termDictionary:\n",
    "    for j in termDictionary[i].holderList:\n",
    "        textFile.write(str(i)+'$'+str(j.ID)+'$'+str(j.url)+'\\n')\n",
    "textFile.close()"
   ]
  },
  {
   "cell_type": "code",
   "execution_count": 6,
   "id": "9f6310c2",
   "metadata": {},
   "outputs": [],
   "source": [
    "#algorithm below is for retrieval of dictionary\n",
    "myFile = open('dictionary.txt',encoding = 'UTF-8')\n",
    "theDictionary = {}\n",
    "for i in myFile:\n",
    "    res = i.split('$')\n",
    "    if res[0] not in theDictionary:\n",
    "        theDictionary[res[0]] = termValue()\n",
    "        myHolder = holder(res[1],res[2])\n",
    "        theDictionary[res[0]].addHolder(myHolder)\n",
    "    else:\n",
    "        myHolder = holder(res[1],res[2])\n",
    "        theDictionary[res[0]].addHolder(myHolder)\n",
    "myFile.close()"
   ]
  },
  {
   "cell_type": "code",
   "execution_count": 7,
   "id": "2ea42a0c",
   "metadata": {},
   "outputs": [],
   "source": [
    "frequencyCalc(theDictionary)"
   ]
  },
  {
   "cell_type": "code",
   "execution_count": 8,
   "id": "527794ad",
   "metadata": {},
   "outputs": [],
   "source": [
    "def merge(term1,term2,myDictionary):\n",
    "    answerList = []\n",
    "    if term1 not in myDictionary or term2 not in myDictionary:\n",
    "        print('no result')\n",
    "    else:\n",
    "        term1List = myDictionary[term1].holderList\n",
    "        term2List = myDictionary[term2].holderList\n",
    "        len1 = len(term1List)\n",
    "        len2 = len(term2List)\n",
    "        i,j = 0,0\n",
    "        while i < len1 and j < len2:\n",
    "            if term1List[i].ID == term2List[j].ID:\n",
    "                answerList.append(term1List[i])\n",
    "                i += 1\n",
    "                j += 1\n",
    "            elif term1List[i].ID < term2List[j].ID:\n",
    "                i += 1\n",
    "            else:\n",
    "                j += 1\n",
    "    return answerList"
   ]
  },
  {
   "cell_type": "code",
   "execution_count": 9,
   "id": "e3cfcb5f",
   "metadata": {},
   "outputs": [],
   "source": [
    "def tripleMerge(term1,term2,term3,myDictionary):\n",
    "    answerList = []\n",
    "    if term1 not in myDictionary or term2 not in myDictionary or term3 not in myDictionary:\n",
    "        print('no result')\n",
    "    else:\n",
    "        term1List = myDictionary[term1].holderList\n",
    "        term2List = myDictionary[term2].holderList\n",
    "        term3List = myDictionary[term3].holderList\n",
    "        len1 = len(term1List)\n",
    "        len2 = len(term2List)\n",
    "        len3 = len(term3List)\n",
    "        i,j,k = 0,0,0\n",
    "        while i < len1 and j < len2 and k < len3:\n",
    "            if term1List[i].ID == term2List[j].ID == term3List[k].ID:\n",
    "                answerList.append(term1List[i])\n",
    "                i += 1\n",
    "                j += 1\n",
    "                k += 1\n",
    "            elif term1List[i].ID < term2List[j].ID and term1List[i].ID < term3List[k].ID:\n",
    "                i += 1\n",
    "            elif term2List[j].ID < term1List[i].ID and term2List[j].ID < term3List[k].ID:\n",
    "                j += 1\n",
    "            elif term3List[k].ID < term1List[i].ID and term3List[k].ID < term2List[j].ID:\n",
    "                k += 1\n",
    "            elif term1List[i].ID == term2List[j].ID and term1List[i].ID < term3List[k].ID:\n",
    "                i += 1\n",
    "                j += 1\n",
    "            elif term1List[i].ID == term3List[k].ID and term1List[i].ID < term2List[j].ID:\n",
    "                i += 1\n",
    "                k += 1\n",
    "            else:\n",
    "                j += 1\n",
    "                k += 1\n",
    "    return answerList"
   ]
  },
  {
   "cell_type": "code",
   "execution_count": 10,
   "id": "f5365c01",
   "metadata": {},
   "outputs": [],
   "source": [
    "def engine(myDictionary):\n",
    "    res = []\n",
    "    query = input('enter query: ')\n",
    "    queryList = query.split()\n",
    "    queryListLen = len(queryList)\n",
    "    if queryListLen == 1:\n",
    "        res = merge(queryList[0],queryList[0],myDictionary)\n",
    "        for i in res:\n",
    "            print(i)\n",
    "    elif queryListLen == 2:\n",
    "        print('--having both--')\n",
    "        res = merge(queryList[0],queryList[1],myDictionary)\n",
    "        for i in res:\n",
    "            print(i)\n",
    "        print('--having just one term--')\n",
    "        res = merge(queryList[0],queryList[0],myDictionary)\n",
    "        for i in res:\n",
    "            print(i)\n",
    "        res = merge(queryList[1],queryList[1],myDictionary)\n",
    "        for i in res:\n",
    "            print(i)\n",
    "    elif queryListLen == 3:\n",
    "        print('--having three terms--')\n",
    "        res = tripleMerge(queryList[0],queryList[1],queryList[1],myDictionary)\n",
    "        for i in res:\n",
    "            print(i)\n",
    "        print('--having two terms--')\n",
    "        res = merge(queryList[0],queryList[1],myDictionary)\n",
    "        for i in res:\n",
    "            print(i)\n",
    "        res = merge(queryList[0],queryList[2],myDictionary)\n",
    "        for i in res:\n",
    "            print(i)\n",
    "        res = merge(queryList[1],queryList[2],myDictionary)\n",
    "        for i in res:\n",
    "            print(i)\n",
    "        print('--having just one term--')\n",
    "        res = merge(queryList[0],queryList[0],myDictionary)\n",
    "        for i in res:\n",
    "            print(i)\n",
    "        res = merge(queryList[1],queryList[1],myDictionary)\n",
    "        for i in res:\n",
    "            print(i)\n",
    "        res = merge(queryList[2],queryList[2],myDictionary)\n",
    "        for i in res:\n",
    "            print(i)\n",
    "    else:\n",
    "        print('this engine does not support....')"
   ]
  },
  {
   "cell_type": "code",
   "execution_count": 14,
   "id": "bc91a719",
   "metadata": {
    "scrolled": true
   },
   "outputs": [
    {
     "output_type": "stream",
     "name": "stdout",
     "text": [
      "--having three terms--\n--having two terms--\n--having just one term--\n1536 https://www.isna.ir/news/98100805596/المپیک-فدای-تیم-متمول-لیگ-کشتی-یزدانی-و-کریمی-روی-لبه-تیغ\n\n6217 https://www.isna.ir/news/99090402939/کرونا-حریف-این-زن-نشد\n\n7 https://www.isna.ir/news/99010301176/بدهی-پرسپولیس-به-بانک-تجارت-تهاتر-شد\n\n26 https://www.isna.ir/news/99010904082/آخرین-وضعیت-مدیرعاملی-استقلال-و-پرسپولیس-تعیین-نفر-اول-آبی-ها\n\n28 https://www.isna.ir/news/99011005118/نامه-پرسپولیس-به-AFC-لطفا-درست-نظرسنجی-برگزار-کنید\n\n40 https://www.isna.ir/news/99011708836/درخواست-پرسپولیس-پذیرفته-شد-فیفا-طلب-چوک-و-گابریل-را-پرداخت\n\n44 https://www.isna.ir/news/99011809768/عزیزیان-با-لغو-لیگ-هم-باید-حق-و-حقوق-اعضای-باشگاه-ها-پرداخت\n\n51 https://www.isna.ir/news/99012111830/کالدرون-سرمربی-تیم-ملی-فوتبال-می-شود\n\n63 https://www.isna.ir/news/99012816876/جلسه-بازیکن-پرسپولیس-با-سرپرست-باشگاه-برگزار-شد\n\n75 https://www.isna.ir/news/99020805715/با-دستور-سلطانی-فر-کمپ-حجازی-به-استقلال-واگذار-می-شود\n\n81 https://www.isna.ir/news/99021309405/معاون-سازمان-خصوصی-سازی-از-حضور-هواداران-در-باشگاه-استقلال\n\n92 https://www.isna.ir/news/99022013747/بدهی-عجیب-۶-هزار-و-۴٠٠-دلاری-پرسپولیس\n\n121 https://www.isna.ir/news/99030301681/تمرین-رسمی-پرسپولیس-بعد-از-۷۰-روز-تست-آمادگی-جسمانی-سرخ-ها\n\n123 https://www.isna.ir/news/99030301659/پرسپولیس-شارژ-مالی-شد\n\n126 https://www.isna.ir/news/99030402072/مثبت-شدن-تست-کرونای-دو-عضو-تدارکات-پرسپولیس\n\n133 https://www.isna.ir/news/99030502280/پرسپولیس-فردا-از-پرونده-برانکو-به-CAS-اعتراض-می-کند\n\n146 https://www.isna.ir/news/99030804626/بازرس-فدراسیون-پزشکی-ورزشی-در-تمرین-پرسپولیس\n\n172 https://www.isna.ir/news/99031710154/شمسایی-با-استقلال-در-لیگ-برتر-فوتسال\n\n208 https://www.isna.ir/news/99032918684/برانکو-پیشنهاد-تسویه-حساب-پرسپولیس-را-رد-کرد-۱۰۴-هزار-فرانک\n\n213 https://www.isna.ir/news/99033018956/موافقت-اولیه-سازمان-لیگ-فوتسال-با-تیمداری-استقلال-و-پرسپولیس\n\n215 https://www.isna.ir/news/99040100890/پرسپولیس-در-حضور-خبرنگاران-گرم-کرد\n\n223 https://www.isna.ir/news/99040403422/بی-پولی-پرسپولیس-به-حقوق-کارکنانش-رسید\n\n237 https://www.isna.ir/news/99040705402/سراج-پتانسیل-آسیایی-شدن-را-نداریم-به-اجبار-باید-در-مسابقات\n\n239 https://www.isna.ir/news/99040705214/کسر-۵۸-درصدی-از-درآمد-پرسپولیس-به-بهانه-مالیات-و-بیمه\n\n248 https://www.isna.ir/news/99041007532/کارمندان-باشگاه-پرسپولیس-اعتصاب-کردند\n\n253 https://www.isna.ir/news/99041108640/داستان-یک-ذی-حساب-وقتی-مدیرعامل-پرسپولیس-قانون-را-نمی-داند\n\n254 https://www.isna.ir/news/99041108529/کریمیان-سرمربی-شاهین-شد\n\n255 https://www.isna.ir/news/99041108411/بیرانوند-به-دستور-مربی-آنتورپ-انفرادی-تمرین-می-کند\n\n258 https://www.isna.ir/news/99041209100/کریمیان-شاهین-توانایی-ماندن-در-لیگ-را-دارد-با-پرسپولیس-یک-بازی\n\n273 https://www.isna.ir/news/99041712874/علی-نژاد-حکم-فیفا-جریمه-نیست-حقوق-کالدرون-است-ممنوعیت-جذب\n\n285 https://www.isna.ir/news/99042216568/پرسپولیس-به-دنبال-مذاکره-با-کالدرون\n\n287 https://www.isna.ir/news/99042317322/احتمال-حضور-استقلال-در-لیگ-برتر-فوتسال-زیاد-شد\n\n289 https://www.isna.ir/news/99042418287/بازی-فولاد-پرسپولیس-هم-لغو-می-شود\n\n295 https://www.isna.ir/news/99042519071/پرسپولیس-در-آستانه-محرومیت-از-۳-پنجره-نقل-و-انتقالاتی\n\n305 https://www.isna.ir/news/99042719920/منابع-تأمین-طلب-برانکو-مشخص-شد\n\n307 https://www.isna.ir/news/99042820646/سپاهان-مقابل-تیم-های-قدرتمند-به-مشکل-می-خورد\n\n309 https://www.isna.ir/news/99042921462/فنونی-زاده-پرسپولیس-خوب-بازی-نمی-کند-اما-می-برد-خطر-کسر-امتیاز\n\n315 https://www.isna.ir/news/99050100795/طلب-پانادیچ-از-پدیده-دردسر-جدید-شهرخودرو\n\n317 https://www.isna.ir/news/99050201463/دریافتی-بازیکنان-نفت-مسجدسلیمان-به-۸۰-درصد-رسید-تعیین-پاداش\n\n321 https://www.isna.ir/news/99050402248/تیم-شانزدهم-لیگ-برتر-فوتسال-چه-تیمی-است\n\n325 https://www.isna.ir/news/99050503061/سرنوشت-تلخ-در-انتظار-عیسی-آل-کثیر\n\n326 https://www.isna.ir/news/99050604446/پیشنهاد-پرسپولیس-به-برانکو-چه-بود-که-رد-شد\n\n329 https://www.isna.ir/news/99050705337/آنتورپ-فعلا-پولی-واریز-نکرده-پرسپولیس-در-تلاش-برای-تامین-مطالبات\n\n333 https://www.isna.ir/news/99050806247/شوخی-مجری-تلویزیون-کار-دستش-داد\n\n335 https://www.isna.ir/news/99050906683/پرسپولیس-به-بشار-رسن-مبلغ-قراردادت-را-کم-کن-تا-تمدید-کنیم\n\n338 https://www.isna.ir/news/99051007154/بدهی-پرسپولیس-به-برانکو-دقیقا-چقدر-است\n\n343 https://www.isna.ir/news/99051209014/قول-پرسپولیس-به-برانکو-تا-قبل-از-١۶-مرداد-مطالباتت-را-می-دهیم\n\n347 https://www.isna.ir/news/99051410831/پرسپولیس-درصد-قابل-توجهی-از-مطالبات-برانکو-را-پرداخت-کرد\n\n352 https://www.isna.ir/news/99051511577/فیفا-طلب-برانکو-را-نداد-یک-روز-تا-پایان-مهلت-سرخ-ها-فقط-سود\n\n356 https://www.isna.ir/news/99051813151/نامه-جدید-کمیته-انضباطی-فیفا-به-پرسپولیس-مطالبات-ایگور-و-زلاتکو\n\n362 https://www.isna.ir/news/99052115675/پرسپولیس-برای-پرونده-کالدرون-به-CAS-اعتراض-می-کند\n\n364 https://www.isna.ir/news/99052216796/مهلت-٣٠-روزه-فیفا-به-پرسپولیس-برای-پرداخت-بدهی-برانکو-جریمه\n\n365 https://www.isna.ir/news/99052216771/محرومان-هفته-بیست-و-نهم-لیگ-برتر-فوتبال\n\n366 https://www.isna.ir/news/99052216770/آدام-همتی-با-پارس-جنوبی-فسخ-کرد\n\n367 https://www.isna.ir/news/99052216765/سعادتمند-با-دو-بازیکن-دیگر-تمدید-می-کنیم-قرارداد-دیاباته-محرمانه\n\n373 https://www.isna.ir/news/99052216370/درد-فوتبال-اصفهان-غریبه-پرستی-است\n\n381 https://www.isna.ir/news/99052720182/مشکلات-عجیب-پرسپولیس-در-پرداخت-مطالبات-مربیان-سابقش\n\n391 https://www.isna.ir/news/99052922071/نظارت-ویژه-در-هفته-پایانی-لیگ-برتر-و-برخورد-با-غیبت-سرمربیان\n\n411 https://www.isna.ir/news/99060504848/پوشش-خبری-داربی-کرونایی-چگونه-است\n\n412 https://www.isna.ir/news/99060504825/ترکیب-پرسپولیس-برای-داربی-مشخص-شد\n\n413 https://www.isna.ir/news/99060504671/پوشش-داربی-بدون-تماشاگر-با-۱۲-دوربین\n\n419 https://www.isna.ir/news/99060605132/مرفاوی-استقلال-مقابل-پرسپولیس-مستحق-برد-بود-نباید-تیم-را-به\n\n421 https://www.isna.ir/news/99060705860/ترکش-گلایه-های-گل-محمدی-معاون-اجرایی-پرسپولیس-استعفا-داد\n\n423 https://www.isna.ir/news/99060705763/دریافتی-تیم-پرسپولیس-به-حداقل-۸۵-درصد-رسید\n\n425 https://www.isna.ir/news/99060906464/پرونده-شکایت-ایگور-و-زلاتکو-از-پرسپولیس-بسته-شد\n\n428 https://www.isna.ir/news/99061007275/ترابی-با-پرسپولیس-فسخ-کرد\n\n432 https://www.isna.ir/news/99061108045/داور-فینال-جام-حذفی-فوتبال-مشخص-شد\n\n435 https://www.isna.ir/news/99061209143/احسان-پهلوان-به-پرسپولیس-پیوست\n\n445 https://www.isna.ir/news/99061511009/درخواست-٣٨٠هزار-یورویی-پرسپولیس-از-بانک-مرکزی-سرخ-ها-در-تلاش\n\n447 https://www.isna.ir/news/99061510962/اوساگونا-از-پرسپولیس-جدا-شد\n\n458 https://www.isna.ir/news/99061712930/١٠-درصد-قرارداد-لک-و-آقایی-پرداخت-شد\n\n468 https://www.isna.ir/news/99062015471/نامه-پرسپولیس-به-برانکو-لطفا-به-ما-۳۰-روز-فرصت-بده\n\n470 https://www.isna.ir/news/99062115826/ابهام-درباره-نرفتن-شیری-به-قطر-مدافع-پرسپولیس-واقعا-مصدوم-است\n\n473 https://www.isna.ir/news/99062216665/درخشان-قانون-منع-جذب-بازیکنان-خارجی-همه-چیز-را-بهم-ریخته-است\n\n475 https://www.isna.ir/news/99062216530/درخواست-۱۱-میلیاردی-گل-محمدی-برای-قرارداد-دو-ساله-با-پرسپولیس\n\n479 https://www.isna.ir/news/99062418610/پیوستن-یونس-دلفی-به-گریتسا-کرواسی\n\n484 https://www.isna.ir/news/99062418367/کرمانی-مقدم-باید-در-آسیا-شجاعانه-بازی-کنیم-پرسپولیس-پول-های\n\n498 https://www.isna.ir/news/99070100494/تهران-میزبان-مرحله-رفت-لیگ-برتر-هندبال-گچساران-اضافه-شد-اسلام\n\n510 https://www.isna.ir/news/99070604626/خان-محمدی-تعویض-های-گل-محمدی-روند-بازی-با-السد-را-تغییر-داد\n\n542 https://www.isna.ir/news/99071612726/مطهری-در-پرسپولیس-می-مانم\n\n550 https://www.isna.ir/news/99071813344/سیدصالحی-تیم-های-عربی-با-لابی-جلوی-حریفان-می-ایستند-تا-دیر\n\n567 https://www.isna.ir/news/99072216939/برتری-مس-مقابل-فولاد-و-زغال-سنگ-مقابل-فراز-در-لیگ-برتر-هندبال\n\n568 https://www.isna.ir/news/99072216901/فردا-۲۵۰-هزار-یورو-به-حساب-برانکو-واریز-می-شود\n\n572 https://www.isna.ir/news/99072317817/۴١٠-هزار-یوروی-دیگر-در-حساب-برانکو\n\n573 https://www.isna.ir/news/99072317799/شکست-نفت-و-گاز-مقابل-پاس-در-لیگ-برتر-هندبال\n\n579 https://www.isna.ir/news/99072418443/بشار-رسن-باز-هم-با-هواداران-پرسپولیس-خداحافظی-کرد\n\n580 https://www.isna.ir/news/99072418395/پایان-دور-اول-لیگ-برتر-هندبال-با-صدرنشینی-مس-و-شاملی\n\n581 https://www.isna.ir/news/99072418357/حدود-۶۵۰-هزار-یورو-به-حساب-برانکو-واریز-شد\n\n582 https://www.isna.ir/news/99072418213/در-آخرین-جلسه-مدیران-پرسپولیس-و-بشار-رسن-چه-گذشت\n\n583 https://www.isna.ir/news/99072418209/پرسپولیس-به-فسخ-قرارداد-خلیل-زاده-اعتراض-کرد\n\n593 https://www.isna.ir/news/99072719711/محسن-ربیع-خواه-با-پرسپولیس-فسخ-کرد\n\n597 https://www.isna.ir/news/99072820710/برتری-پرسپولیس-بهبهان-در-لیگ-برتر-هندبال-زنان\n\n600 https://www.isna.ir/news/99072921619/شکست-ذوب-آهن-مقابل-بافق-در-لیگ-برتر-هندبال-زنان\n\n605 https://www.isna.ir/news/99073022785/شجاع-خلیل-زاده-راهی-قطر-شد\n\n607 https://www.isna.ir/news/99080100388/یک-پیروزی-و-یک-تساوی-در-روز-چهارم-لیگ-برتر-هندبال-زنان\n\n609 https://www.isna.ir/news/99080200880/رسول-پناه-استعفا-داد\n\n611 https://www.isna.ir/news/99080200851/اعتراض-پیروانی-به-مدیران-پرسپولیس-با-غیبت-در-تمرین\n\n617 https://www.isna.ir/news/99080200766/رغبتی-رسما-از-هیأت-مدیره-پرسپولیس-استعفا-داد\n\n635 https://www.isna.ir/news/99080805171/جعفر-سمیعی-مدیرعامل-باشگاه-پرسپولیس-شد\n\n648 https://www.isna.ir/news/99081208151/قاضی-به-مس-رفسنجان-پیوست\n\n667 https://www.isna.ir/news/99081912504/رادوشوویچ-امروز-در-محل-تمرین-پرسپولیس-حاضر-شد\n\n670 https://www.isna.ir/news/99081912456/کمتر-از-٨-میلیون-تومان-در-حساب-پرسپولیس\n\n679 https://www.isna.ir/news/99082215261/صدرنشینی-تیم-شاملی-در-پایان-دور-رفت-لیگ-برتر-هندبال\n\n695 https://www.isna.ir/news/99082618142/مهدی-خانی-به-پرسپولیس-پیوست\n\n697 https://www.isna.ir/news/99082719104/مهدی-خانی-با-پرسپولیس-قرارداد-۲ساله-بست\n\n701 https://www.isna.ir/news/99082820069/بازیکن-مدنظر-پرسپولیس-پیکانی-شد\n\n705 https://www.isna.ir/news/99082819815/احتمال-شکایت-حقوقی-بازیکنان-واترپلو-از-باشگاه-پرسپولیس\n\n708 https://www.isna.ir/news/99083020917/مهدی-خانی-مجوز-بازی-دریافت-کرد\n\n717 https://www.isna.ir/news/99090403310/بازگشت-حسینی-به-نیمکت-نفت-مسجدسلیمان\n\n721 https://www.isna.ir/news/99090604905/حضور-هواداران-در-بازی-نفت-مسجدسلیمان-پرسپولیس\n\n727 https://www.isna.ir/news/99090907204/لیگ-برتر-هندبال-زنان-شکست-اشتادسازه-در-خانه\n\n739 https://www.isna.ir/news/99091310461/CAS-درخواست-پرسپولیس-را-پذیرفت\n\n740 https://www.isna.ir/news/99091310436/برتری-پرگل-سپاهان-مقابل-پرسپولیس-در-لیگ-برتر-هندبال-زنان\n\n757 https://www.isna.ir/news/99091915337/اولین-برد-گچساران-در-لیگ-برتر-هندبال-مردان-تثبیت-صدرنشینی-شاملی\n\n762 https://www.isna.ir/news/99092015879/برتری-مس-فراز-بام-و-فولاد-در-جریان-لیگ-برتر-هندبال-مردان\n\n765 https://www.isna.ir/news/99092116194/حدادی-فر-با-ذوب-آهن-تمرین-کرد-و-تست-دومش-مثبت-شد\n\n784 https://www.isna.ir/news/99100100487/نمایش-داعش-در-پوشش-هوادار-استقلال-توضیح-سازندگان\n\n787 https://www.isna.ir/news/99100100410/تمجید-فیفا-از-مهاجم-پرسپولیس\n\n806 https://www.isna.ir/news/99101108303/ترکیب-پرسپولیس-برای-دیدار-برابر-ذوب-آهن\n\n810 https://www.isna.ir/news/99101208800/پرسپولیس-۱۲۰-هزار-دلار-بابت-انتقال-رسن-دریافت-کرد\n\n835 https://www.isna.ir/news/99102317552/تیم-های-لیگ-برتری-هندبال-خوزستان-در-آستانه-انحلال\n\n851 https://www.isna.ir/news/99102519116/گل-محمدی-در-تمرین-پرسپولیس-حاضر-شد\n\n892 https://www.isna.ir/news/99110705179/برگزاری-جلسه-هیات-مدیره-پرسپولیس-در-حضور-اعضای-جدید-و-گل-محمدی\n\n893 https://www.isna.ir/news/99110704967/بازیکنان-نباید-مورد-هجمه-حاشیه-نشینان-هندبال-قرار-بگیرند\n\n916 https://www.isna.ir/news/99111410707/برد-دشتستان-برابر-هوانیروز-در-لیگ-برتر-هندبال-مردان-کارت-زرد\n\n921 https://www.isna.ir/news/99111511695/علی-انصاریان-درگذشت\n\n924 https://www.isna.ir/news/99111612262/برد-گچساران-و-کیمیا-کاشت-در-لیگ-برتر-هندبال-مردان\n\n928 https://www.isna.ir/news/99111914640/باز-هم-تساوی-برای-سپاهان-در-لیگ-برتر-هندبال-برتری-مس-مقابل-ذوب-آهن\n\n932 https://www.isna.ir/news/99112015524/صعود-سپاهان-و-تاسیسات-به-مرحله-نهایی-لیگ-برتر-هندبال-زنان\n\n934 https://www.isna.ir/news/99112116512/لیگ-برتر-هندبال-مردان-مس-کرمان-روی-نوار-باخت\n\n940 https://www.isna.ir/news/99112317529/شکست-ذوب-آهن-مقابل-زغال-سنگ-طبس-در-لیگ-برتر-هندبال-مردان-۵-اخراجی\n\n944 https://www.isna.ir/news/99112720412/برد-مس-و-شاملی-در-لیگ-برتر-هندبال-مردان-مربی-پرسپولیس-به-داوری\n\n951 https://www.isna.ir/news/99112821342/سومی-فولاد-مبارکه-سپاهان-در-لیگ-برتر-هندبال-تکلیف-قهرمان-فردا\n\n961 https://www.isna.ir/news/99120100371/حضور-درخشان-در-نفت-مسجدسلیمان-منتفی-شد\n\n972 https://www.isna.ir/news/99120402801/سومی-فولاد-مبارکه-سپاهان-در-لیگ-برتر-هندبال-زنان\n\n977 https://www.isna.ir/news/99120604751/واکنش-فیروزی-به-خبر-بسته-شدن-پنجره-نقل-و-انتقالاتی-صنعت-نفت-آبادان\n\n986 https://www.isna.ir/news/99120805435/مهاجم-سابق-پرسپولیس-در-لیگ-عراق\n\n996 https://www.isna.ir/news/99121310311/آرمان-رمضانی-در-آستانه-جدایی-از-پرسپولیس\n\n1000 https://www.isna.ir/news/99121410881/پنجره-نقل-وانتقالاتی-پرسپولیس-رسما-باز-شد\n\n1001 https://www.isna.ir/news/99121410848/با-بسته-شدن-پرونده-بودیمیر-پنجره-پرسپولیس-باز-می-شود\n\n1009 https://www.isna.ir/news/99121511228/ITC-ترابی-صادر-شد\n\n1029 https://www.isna.ir/news/99122620215/اصرار-انصاری-به-جدایی-با-وجود-مخالفت-باشگاه-بخشش-طلب-هم-کارساز\n\n1032 https://www.isna.ir/news/99122821853/۵-درصد-از-مطالبات-بازیکنان-پرسپولیس-پرداخت-شد\n\n1042 https://www.isna.ir/news/98010902726/شوک-بزرگ-به-استقلال-وریا-غفوری-داربی-را-از-دست-داد\n\n1043 https://www.isna.ir/news/98010902616/گزارشگر-داربی-۸۹-مشخص-شد\n\n1046 https://www.isna.ir/news/98011504573/نعمتی-برابر-الاهلی-چیزی-برای-از-دست-دادن-نداریم\n\n1047 https://www.isna.ir/news/98011504570/دلیل-افت-کیفی-شاگردان-برانکو-از-نگاه-نوراللهی\n\n1048 https://www.isna.ir/news/98011504568/شیری-حق-اشتباه-نداریم-زیرا-قهرمانی-از-دست-می-رود\n\n1069 https://www.isna.ir/news/98013013278/قول-هیات-مدیره-پرسپولیس-به-برانکو-پرداخت-طلب-تا-۱۳-اردیبهشت\n\n1075 https://www.isna.ir/news/98020301718/بودیمیر-به-کرواسی-رفت\n\n1095 https://www.isna.ir/news/98021709358/پرداخت-۵۰۰-هزار-یورویی-پرسپولیس-به-برانکو\n\n1114 https://www.isna.ir/news/98022513757/تارتار-دوست-دارم-بازی-را-ببریم-و-پرسپولیس-قهرمان-شود-دوست\n\n1155 https://www.isna.ir/news/98031104941/ترخیص-مصدومان-بازی-سپاهان-و-پرسپولیس\n\n1170 https://www.isna.ir/news/98032109464/گزارش-حواشی-فینال-جام-حذفی-به-دفتر-ریاست-جمهوری-ارسال-شده-است\n\n1172 https://www.isna.ir/news/98032310704/مصطفی-دنیزلی-سرمربی-تراکتور-شد\n\n1182 https://www.isna.ir/news/98032914240/یحیی-پرسپولیسی-می-شود\n\n1199 https://www.isna.ir/news/98041206457/امیری-و-کی-روش-در-تیررس-تراکتور\n\n1208 https://www.isna.ir/news/98041709068/در-جلسه-وکیل-برانکو-و-پرسپولیس-چه-گذشت\n\n1230 https://www.isna.ir/news/98050201254/کالدرون-همراه-پرسپولیس-به-شهرقدس-نرفت-ترابی-و-ربیع-خواه-مسئول\n\n1234 https://www.isna.ir/news/98050401898/مهدی-شریفی-از-لیست-پرسپولیس-خارج-شد\n\n1269 https://www.isna.ir/news/98051508035/برنامه-کامل-نوزدهمین-دوره-لیگ-برتر\n\n1289 https://www.isna.ir/news/98052311646/عرب-استعفا-نداده-است-مدیران-پرسپولیس-در-این-باشگاه-می-مانند\n\n1304 https://www.isna.ir/news/98052813971/جونیور-رسما-به-پرسپولیس-پیوست\n\n1309 https://www.isna.ir/news/98060301227/دلیل-غیبت-استراماچونی-در-مراسم-برترین-ها-مشخص-شد\n\n1351 https://www.isna.ir/news/98062512219/جان-باختن-پسربچه-هشت-ساله-حین-گذر-از-گیت-الکترونیکی-ورزشگاه-آزادی\n\n1359 https://www.isna.ir/news/00061215423/گزارشگر-دربی-۹۰-کیست\n\n1361 https://www.isna.ir/news/98070201714/آرمان-هنوز-در-کما-به-سر-می-برد\n\n1365 https://www.isna.ir/news/98070503647/آغاز-مرحله-یک-شانزدهم-نهایی-جام-حذفی-از-فردا\n\n1372 https://www.isna.ir/news/98071108502/امید-عالیشاه-به-لیست-پرسپولیس-برگشت\n\n1404 https://www.isna.ir/news/98080201236/به-مجموعه-باشگاه-و-تماشاچیان-بدهکاریم-مقابل-پرسپولیس-بازی-سختی\n\n1451 https://www.isna.ir/news/98082415628/مشتری-پرتغالی-فردا-می-آید-فصل-جدایی-بیرانوند-از-پرسپولیس-فرا\n\n1467 https://www.isna.ir/news/98090200906/اختلاف-شجاع-خلیل-زاده-و-کالدرون-بر-سر-دفاع-راست\n\n1475 https://www.isna.ir/news/98090704960/جونیور-براندائو-با-پرسپولیس-فسخ-کرد\n\n1482 https://www.isna.ir/news/98090805321/اختلاف-طبقاتی-در-فوتبال-عین-جامعه-است-چرا-قانون-همه-جا-رعایت\n\n1506 https://www.isna.ir/news/98092216200/کمالوند-داوری-ها-امسال-روی-خوش-به-ما-نشان-نداده-است\n\n1527 https://www.isna.ir/news/98100100482/مشاجره-بیرانوند-با-کالدرون-گلر-قرمزها-به-دنبال-جدایی\n\n1530 https://www.isna.ir/news/98100302640/گله-کالدرون-از-منتقد-سابقش\n\n1538 https://www.isna.ir/news/98100906623/بازیکنان-نفت-آبادان-در-مدار-توجه-پرسپولیس-و-سپاهان\n\n1555 https://www.isna.ir/news/98101410761/تا-بازگشت-اسکوچیچ-به-آبادان-خبری-از-لیست-ورودی-و-خروجی-نیست\n\n1566 https://www.isna.ir/news/98101713761/افشین-پیروانی-از-سرپرستی-پرسپولیس-کناره-گیری-کرد\n\n1568 https://www.isna.ir/news/98101814531/ادامه-محرومیت-۶-تیم-لیگ-برتری-استقلال-نمی-تواند-از-مطهری-استفاده\n\n1576 https://www.isna.ir/news/98102418930/بازار-سرد-نقل-و-انتقالات-زمستانه-برای-نفت-آبادان\n\n1596 https://www.isna.ir/news/98110100757/مدیران-۴-تیم-آسیایی-ایران-پنجشنبه-با-دبیرکل-AFC-دیدار-می-کنند\n\n1600 https://www.isna.ir/news/98110806292/قرارداد-بیرانوند-و-آنتورپ-امضا-شد-بیرانوند-چهار-میلیون-یورو\n\n1601 https://www.isna.ir/news/98110806228/پایان-جلسه-هیات-مدیره-نفت-آبادان-و-اسکوچیچ-اصرار-مربی-کروات-به\n\n1602 https://www.isna.ir/news/98110906623/بازگشت-اسکوچیچ-به-تمرینات-نفت-آبادان\n\n1607 https://www.isna.ir/news/98111308921/اعتصاب-بازیکنان-پرسپولیس-میانجیگری-یحیی\n\n1613 https://www.isna.ir/news/98111511080/فروش-۱۷-هزار-بلیت-شهرآورد-تاکنون-ساعت-بازی-نهایی-شد\n\n1630 https://www.isna.ir/news/98112418017/کریستیچوویچ-در-جایگاهی-هستیم-که-می-توانیم-برای-هواداران-مان\n\n1644 https://www.isna.ir/news/98113022733/برنامه-اسکوچیچ-برای-لژیونرهای-شاغل-در-اروپا-سرمربی-در-راه-خانه\n\n1648 https://www.isna.ir/news/98120201214/درگیری-فیزیکی-در-تمرین-پرسپولیس\n\n1651 https://www.isna.ir/news/98120302460/بیرانوند-دوباره-نیمکت-نشین-شد\n\n1652 https://www.isna.ir/news/98120302304/منتظر-ابلاغ-سازمان-لیگ-هستیم\n\n1655 https://www.isna.ir/news/98120504157/شکایت-سپاهان-از-مدیرعامل-پرسپولیس\n\n1656 https://www.isna.ir/news/98120503958/ما-آماده-مسابقه-بودیم-اما-پرسپولیسی-ها-رفتند\n\n1660 https://www.isna.ir/news/98120706128/تکسیرا-دربی-اصفهان-متفاوت-تر-از-بقیه-است-ذوب-آهن-در-ضربات-ایستگاهی\n\n1662 https://www.isna.ir/news/98120806767/بازیکنان-تمرکز-نداشتند\n\n1679 https://www.isna.ir/news/98121310429/استوکس-١۵٠هزار-یورو-گرفت-و-پرسپولیس-را-قال-گذاشت\n\n1689 https://www.isna.ir/news/98121512118/در-اصفهان-مرغ-همسایه-همیشه-غاز-است\n\n1707 https://www.isna.ir/news/98122317659/در-جلسه-هیات-مدیره-پرسپولیس-و-بازیکنان-چه-گذشت\n\n1708 https://www.isna.ir/news/98122317568/گل-محمدی-تهمت-ها-به-ما-انگیزه-می-دهد-استعفای-انصاری-فرد-شک-آور\n\n1724 https://www.isna.ir/news/98122720821/پرسپولیس-از-برانکو-شکایت-می-کند\n\n2673 https://www.isna.ir/news/98032612222/بررسی-حواشی-اخیر-چند-مسابقه-فوتبال-در-فراکسیون-ورزش\n\n"
     ]
    }
   ],
   "source": [
    "engine(theDictionary)"
   ]
  }
 ],
 "metadata": {
  "kernelspec": {
   "name": "python388jvsc74a57bd08fac594bfae6525c0c41b4041d2d72effa188cc8ead05f81b1fab2bb098927fb",
   "display_name": "Python 3.8.8 64-bit ('base': conda)"
  },
  "language_info": {
   "codemirror_mode": {
    "name": "ipython",
    "version": 3
   },
   "file_extension": ".py",
   "mimetype": "text/x-python",
   "name": "python",
   "nbconvert_exporter": "python",
   "pygments_lexer": "ipython3",
   "version": "3.8.8"
  }
 },
 "nbformat": 4,
 "nbformat_minor": 5
}