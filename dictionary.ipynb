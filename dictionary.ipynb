{
 "cells": [
  {
   "cell_type": "code",
   "execution_count": 1,
   "id": "ed2d3857",
   "metadata": {},
   "outputs": [],
   "source": [
    "import pandas as pd"
   ]
  },
  {
   "cell_type": "code",
   "execution_count": 2,
   "id": "400f4d4a",
   "metadata": {},
   "outputs": [],
   "source": [
    "data = pd.read_excel('IR_Spring2021_ph12_7k.xlsx')"
   ]
  },
  {
   "cell_type": "code",
   "execution_count": 3,
   "id": "aec2cfed",
   "metadata": {},
   "outputs": [],
   "source": [
    "#normalize 1 method\n",
    "def normalize1(myList):\n",
    "    \"\"\"\"\n",
    "    we should remove some specific characters eg: we do not save dot in the end of sentence with the last word\n",
    "    we just need to remove if these specific chars are at the last of our word\n",
    "    \"\"\"\n",
    "    for i in range(len(myList)):\n",
    "        if myList[i].endswith('.'):\n",
    "            myList[i] = myList[i].replace('.','')\n",
    "        elif myList[i].endswith('،'):\n",
    "            myList[i] = myList[i].replace('،','')\n",
    "        elif myList[i].endswith(':'):\n",
    "            myList[i] = myList[i].replace(':','')\n",
    "        else:\n",
    "            pass\n",
    "    #the two last members means end of message and it is in all docs so we do not need it\n",
    "    myList.pop()\n",
    "    myList.pop()"
   ]
  },
  {
   "cell_type": "code",
   "execution_count": 2,
   "id": "f002a8f1",
   "metadata": {},
   "outputs": [],
   "source": [
    "#class below is for holding single id and single url\n",
    "class holder:\n",
    "    def __init__(self,ID = 0,url = None):\n",
    "        self.ID = ID\n",
    "        self.url = url\n",
    "    def __eq__(self,obj):\n",
    "        return str(self.ID)+self.url == str(obj.ID)+obj.url\n",
    "    def __str__(self):\n",
    "        return str(self.ID)+' '+self.url"
   ]
  },
  {
   "cell_type": "code",
   "execution_count": 3,
   "id": "11404fc5",
   "metadata": {},
   "outputs": [],
   "source": [
    "#class below is for holding term frequency and list of holder classess\n",
    "class termValue:\n",
    "    def __init__(self):\n",
    "        self.frequency = 0\n",
    "        self.holderList = []\n",
    "    def addHolder(self,newHolder):\n",
    "        if newHolder not in self.holderList:\n",
    "            self.holderList.append(newHolder)"
   ]
  },
  {
   "cell_type": "code",
   "execution_count": 10,
   "id": "50cf040a",
   "metadata": {},
   "outputs": [],
   "source": [
    "#function below if for creating our dictionary\n",
    "def createDictionary(myData):\n",
    "    #dictionary data structure below is for holding term and frequency and holderLists\n",
    "    #finally our form is like {term:(freq,[listOfHolders])}\n",
    "    #dictionary[term] is termValue class object that contains freq+lisOfHolders that is object of holder class\n",
    "    termDictionary = {}\n",
    "    for counter in range(len(myData)):\n",
    "        x = myData['content'][counter].split()\n",
    "        y = myData['id'][counter]\n",
    "        z = myData['url'][counter]\n",
    "        normalize1(x)\n",
    "        for i in x:\n",
    "            if i not in termDictionary:\n",
    "                termDictionary[i] = termValue()\n",
    "                myHolder = holder(y,z)\n",
    "                termDictionary[i].addHolder(myHolder)\n",
    "            else:\n",
    "                myHolder = holder(y,z)\n",
    "                termDictionary[i].addHolder(myHolder)\n",
    "    return termDictionary"
   ]
  },
  {
   "cell_type": "code",
   "execution_count": 11,
   "id": "868842b6",
   "metadata": {},
   "outputs": [],
   "source": [
    "termDictionary = createDictionary(data)"
   ]
  },
  {
   "cell_type": "code",
   "execution_count": 9,
   "id": "c5cf36a5",
   "metadata": {},
   "outputs": [],
   "source": [
    "#function below is for calculating frequency of each term\n",
    "def frequencyCalc(myDictionary):\n",
    "    for i in myDictionary:\n",
    "        myDictionary[i].frequency = len(myDictionary[i].holderList)\n",
    "frequencyCalc(termDictionary)"
   ]
  },
  {
   "cell_type": "code",
   "execution_count": 10,
   "id": "cb8a622c",
   "metadata": {},
   "outputs": [],
   "source": [
    "#function below is for printing our whole dictionary\n",
    "def printDictionary(myDictionary):\n",
    "    for i in myDictionary:\n",
    "        print('term:',i)\n",
    "        print('frequency:',myDictionary[i].frequency)\n",
    "        print('--postings--')\n",
    "        for j in myDictionary[i].holderList:\n",
    "            print(j)\n",
    "        print('-----------------------------------------------------------')\n",
    "printDictionary(termDictionary)"
   ]
  },
  {
   "cell_type": "code",
   "execution_count": 29,
   "id": "ec37ec94",
   "metadata": {},
   "outputs": [],
   "source": [
    "#algorithm below is for writing our dictionary to text file\n",
    "textFile = open('dictionary.txt','a',encoding = 'UTF-8')\n",
    "for i in termDictionary:\n",
    "    for j in termDictionary[i].holderList:\n",
    "        textFile.write(str(i)+'$'+str(j.ID)+'$'+str(j.url)+'\\n')\n",
    "textFile.close()"
   ]
  },
  {
   "cell_type": "code",
   "execution_count": 4,
   "id": "9f6310c2",
   "metadata": {},
   "outputs": [],
   "source": [
    "#algorithm below is for retrieval of dictionary\n",
    "myFile = open('dictionary.txt',encoding = 'UTF-8')\n",
    "a = {}\n",
    "for i in myFile:\n",
    "    res = i.split('$')\n",
    "    if res[0] not in a:\n",
    "        a[res[0]] = termValue()\n",
    "        myHolder = holder(res[1],res[2])\n",
    "        a[res[0]].addHolder(myHolder)\n",
    "    else:\n",
    "        myHolder = holder(res[1],res[2])\n",
    "        a[res[0]].addHolder(myHolder)\n",
    "myFile.close()"
   ]
  },
  {
   "cell_type": "code",
   "execution_count": 2,
   "metadata": {
    "tags": []
   },
   "outputs": [
    {
     "output_type": "error",
     "ename": "NameError",
     "evalue": "name 'a' is not defined",
     "traceback": [
      "\u001b[1;31m---------------------------------------------------------------------------\u001b[0m",
      "\u001b[1;31mNameError\u001b[0m                                 Traceback (most recent call last)",
      "\u001b[1;32m<ipython-input-2-5a039fe5b781>\u001b[0m in \u001b[0;36m<module>\u001b[1;34m\u001b[0m\n\u001b[1;32m----> 1\u001b[1;33m \u001b[0mjavab\u001b[0m \u001b[1;33m=\u001b[0m \u001b[0ma\u001b[0m\u001b[1;33m[\u001b[0m\u001b[1;34m'به'\u001b[0m\u001b[1;33m]\u001b[0m\u001b[1;33m\u001b[0m\u001b[1;33m\u001b[0m\u001b[0m\n\u001b[0m\u001b[0;32m      2\u001b[0m \u001b[0mprint\u001b[0m\u001b[1;33m(\u001b[0m\u001b[0mlen\u001b[0m\u001b[1;33m(\u001b[0m\u001b[0mjavab\u001b[0m\u001b[1;33m.\u001b[0m\u001b[0mholderList\u001b[0m\u001b[1;33m)\u001b[0m\u001b[1;33m)\u001b[0m\u001b[1;33m\u001b[0m\u001b[1;33m\u001b[0m\u001b[0m\n\u001b[0;32m      3\u001b[0m \u001b[1;32mfor\u001b[0m \u001b[0mi\u001b[0m \u001b[1;32min\u001b[0m \u001b[0mjavab\u001b[0m\u001b[1;33m.\u001b[0m\u001b[0mholderList\u001b[0m\u001b[1;33m:\u001b[0m\u001b[1;33m\u001b[0m\u001b[1;33m\u001b[0m\u001b[0m\n\u001b[0;32m      4\u001b[0m     \u001b[0mprint\u001b[0m\u001b[1;33m(\u001b[0m\u001b[0mi\u001b[0m\u001b[1;33m)\u001b[0m\u001b[1;33m\u001b[0m\u001b[1;33m\u001b[0m\u001b[0m\n",
      "\u001b[1;31mNameError\u001b[0m: name 'a' is not defined"
     ]
    }
   ],
   "source": [
    "javab = a['به']\n",
    "print(len(javab.holderList))\n",
    "for i in javab.holderList:\n",
    "    print(i)"
   ]
  },
  {
   "cell_type": "code",
   "execution_count": 7,
   "id": "2ea42a0c",
   "metadata": {},
   "outputs": [
    {
     "output_type": "error",
     "ename": "NameError",
     "evalue": "name 'frequencyCalc' is not defined",
     "traceback": [
      "\u001b[1;31m---------------------------------------------------------------------------\u001b[0m",
      "\u001b[1;31mNameError\u001b[0m                                 Traceback (most recent call last)",
      "\u001b[1;32m<ipython-input-7-6b3f8fb187e1>\u001b[0m in \u001b[0;36m<module>\u001b[1;34m\u001b[0m\n\u001b[1;32m----> 1\u001b[1;33m \u001b[0mfrequencyCalc\u001b[0m\u001b[1;33m(\u001b[0m\u001b[0ma\u001b[0m\u001b[1;33m)\u001b[0m\u001b[1;33m\u001b[0m\u001b[1;33m\u001b[0m\u001b[0m\n\u001b[0m\u001b[0;32m      2\u001b[0m \u001b[0mprintDictionary\u001b[0m\u001b[1;33m(\u001b[0m\u001b[0ma\u001b[0m\u001b[1;33m)\u001b[0m\u001b[1;33m\u001b[0m\u001b[1;33m\u001b[0m\u001b[0m\n",
      "\u001b[1;31mNameError\u001b[0m: name 'frequencyCalc' is not defined"
     ]
    }
   ],
   "source": [
    "frequencyCalc(a)\n",
    "printDictionary(a)"
   ]
  }
 ],
 "metadata": {
  "kernelspec": {
   "name": "python388jvsc74a57bd08fac594bfae6525c0c41b4041d2d72effa188cc8ead05f81b1fab2bb098927fb",
   "display_name": "Python 3.8.8 64-bit (conda)"
  },
  "language_info": {
   "codemirror_mode": {
    "name": "ipython",
    "version": 3
   },
   "file_extension": ".py",
   "mimetype": "text/x-python",
   "name": "python",
   "nbconvert_exporter": "python",
   "pygments_lexer": "ipython3",
   "version": "3.8.8"
  }
 },
 "nbformat": 4,
 "nbformat_minor": 5
}