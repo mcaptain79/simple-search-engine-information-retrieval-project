{
 "cells": [
  {
   "cell_type": "code",
   "execution_count": 11,
   "id": "e47d2e1f",
   "metadata": {},
   "outputs": [],
   "source": [
    "import pandas as pd\n",
    "import math"
   ]
  },
  {
   "cell_type": "code",
   "execution_count": 2,
   "id": "97d526e7",
   "metadata": {},
   "outputs": [],
   "source": [
    "data = pd.read_excel('IR_Spring2021_ph12_7k.xlsx')"
   ]
  },
  {
   "cell_type": "code",
   "execution_count": 3,
   "id": "89e51489",
   "metadata": {},
   "outputs": [],
   "source": [
    "#class below is for holding single id and single url\n",
    "class holder:\n",
    "    def __init__(self,ID = 0,url = None):\n",
    "        self.ID = ID\n",
    "        self.url = url\n",
    "    def __eq__(self,obj):\n",
    "        return str(self.ID)+self.url == str(obj.ID)+obj.url\n",
    "    def __str__(self):\n",
    "        return str(self.ID)+' '+self.url\n"
   ]
  },
  {
   "cell_type": "code",
   "execution_count": 4,
   "id": "d2429f8e",
   "metadata": {},
   "outputs": [],
   "source": [
    "#class below is for holding term frequency and list of holder classess\n",
    "class termValue:\n",
    "    def __init__(self):\n",
    "        self.frequency = 0\n",
    "        self.holderList = []\n",
    "    def addHolder(self,newHolder):\n",
    "        if newHolder not in self.holderList:\n",
    "            self.holderList.append(newHolder)"
   ]
  },
  {
   "cell_type": "code",
   "execution_count": 5,
   "id": "d578a880",
   "metadata": {},
   "outputs": [],
   "source": [
    "#function below is for calculating frequency of each term\n",
    "def frequencyCalc(myDictionary):\n",
    "    for i in myDictionary:\n",
    "        myDictionary[i].frequency = len(myDictionary[i].holderList)"
   ]
  },
  {
   "cell_type": "code",
   "execution_count": 6,
   "id": "fa1cfd79",
   "metadata": {},
   "outputs": [],
   "source": [
    "#algorithm below is for retrieval of the dictionary\n",
    "myFile = open('dictionary.txt',encoding = 'UTF-8')\n",
    "theDictionary = {}\n",
    "for i in myFile:\n",
    "    res = i.split('$')\n",
    "    if res[0] not in theDictionary:\n",
    "        theDictionary[res[0]] = termValue()\n",
    "        myHolder = holder(res[1],res[2])\n",
    "        theDictionary[res[0]].addHolder(myHolder)\n",
    "    else:\n",
    "        myHolder = holder(res[1],res[2])\n",
    "        theDictionary[res[0]].addHolder(myHolder)\n",
    "myFile.close()"
   ]
  },
  {
   "cell_type": "code",
   "execution_count": 7,
   "id": "94e8371f",
   "metadata": {},
   "outputs": [],
   "source": [
    "frequencyCalc(theDictionary)"
   ]
  },
  {
   "cell_type": "code",
   "execution_count": 44,
   "id": "bae3f994",
   "metadata": {},
   "outputs": [],
   "source": [
    "#list below is just for saving list of words\n",
    "wordsList = []\n",
    "for i in theDictionary:\n",
    "    wordsList.append(i)"
   ]
  },
  {
   "cell_type": "code",
   "execution_count": 9,
   "id": "bbe4aa38",
   "metadata": {},
   "outputs": [],
   "source": [
    "#normalize 1 method\n",
    "def normalize1(myList):\n",
    "    \"\"\"\"\n",
    "    we should remove some specific characters eg: we do not save dot in the end of sentence with the last word\n",
    "    we just need to remove if these specific chars are at the last of our word\n",
    "    \"\"\"\n",
    "    for i in range(len(myList)):\n",
    "        if myList[i].endswith('.'):\n",
    "            myList[i] = myList[i].replace('.','')\n",
    "        elif myList[i].endswith('،'):\n",
    "            myList[i] = myList[i].replace('،','')\n",
    "        elif myList[i].endswith(':'):\n",
    "            myList[i] = myList[i].replace(':','')\n",
    "        else:\n",
    "            pass\n",
    "    #the two last members means end of message and it is in all docs so we do not need it\n",
    "    myList.pop()\n",
    "    myList.pop()"
   ]
  },
  {
   "cell_type": "code",
   "execution_count": 46,
   "id": "9648be04",
   "metadata": {},
   "outputs": [],
   "source": [
    "#algorithm below is saving documents and their bag of words in dictionary docid as key and list of words as value\n",
    "bagOfWordsDic = {}\n",
    "for i in range(len(data)):\n",
    "    docId = data['id'][i]\n",
    "    listOfwords = data['content'][i].split()\n",
    "    normalize1(listOfwords)\n",
    "    bagOfWordsDic[docId] = wordsList"
   ]
  },
  {
   "cell_type": "code",
   "execution_count": 47,
   "id": "aaff5fc4",
   "metadata": {},
   "outputs": [],
   "source": [
    "#function below is for calculating tf\n",
    "def tf_calculator(term,document):\n",
    "    documentBagOfWords = document.split()\n",
    "    normalize1(documentBagOfWords)\n",
    "    n = documentBagOfWords.count(term)\n",
    "    if n == 0:\n",
    "        return 0\n",
    "    return 1+math.log(n)"
   ]
  },
  {
   "cell_type": "code",
   "execution_count": 48,
   "id": "6cfa78af",
   "metadata": {},
   "outputs": [],
   "source": [
    "#function below is for calculating idf\n",
    "def idf_calculator(term,N,myDictionary):\n",
    "    return math.log(N/myDictionary[term].frequency)"
   ]
  },
  {
   "cell_type": "code",
   "execution_count": 49,
   "id": "1b0a6915",
   "metadata": {},
   "outputs": [],
   "source": [
    "#function below is for calculating vector of a single document\n",
    "def createVector(document,listOfWords,myDictionary,N):\n",
    "    resList = []\n",
    "    for i in listOfWords:\n",
    "        resList.append(tf_calculator(i,document)*idf_calculator(i,N,myDictionary))\n",
    "    return resList"
   ]
  },
  {
   "cell_type": "code",
   "execution_count": 37,
   "id": "5a9cee76",
   "metadata": {},
   "outputs": [],
   "source": [
    "#algorithm below is for calculating all vector spaces\n",
    "for i in range(len(data)):\n",
    "    documentId = data['id'][i]\n",
    "    documentUrl = data['url'][i]\n",
    "    documentContent = data['content'][i]\n",
    "    vectorDictionary = {}\n",
    "    vectorDictionary[str(documentId)+' '+documentUrl] = createVector(documentContent,wordsList,theDictionary,len(data))"
   ]
  }
 ],
 "metadata": {
  "kernelspec": {
   "display_name": "Python 3",
   "language": "python",
   "name": "python3"
  },
  "language_info": {
   "codemirror_mode": {
    "name": "ipython",
    "version": 3
   },
   "file_extension": ".py",
   "mimetype": "text/x-python",
   "name": "python",
   "nbconvert_exporter": "python",
   "pygments_lexer": "ipython3",
   "version": "3.8.8"
  }
 },
 "nbformat": 4,
 "nbformat_minor": 5
}
