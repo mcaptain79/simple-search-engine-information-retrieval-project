{
 "cells": [
  {
   "cell_type": "code",
   "execution_count": 1,
   "id": "e47d2e1f",
   "metadata": {},
   "outputs": [],
   "source": [
    "import pandas as pd\n",
    "import math\n",
    "import pickle"
   ]
  },
  {
   "cell_type": "code",
   "execution_count": 2,
   "id": "97d526e7",
   "metadata": {},
   "outputs": [],
   "source": [
    "data = pd.read_excel('IR_Spring2021_ph12_7k.xlsx')"
   ]
  },
  {
   "cell_type": "code",
   "execution_count": 3,
   "id": "89e51489",
   "metadata": {},
   "outputs": [],
   "source": [
    "#class below is for holding single id and single url\n",
    "class holder:\n",
    "    def __init__(self,ID = 0,url = None):\n",
    "        self.ID = ID\n",
    "        self.url = url\n",
    "    def __eq__(self,obj):\n",
    "        return str(self.ID)+self.url == str(obj.ID)+obj.url\n",
    "    def __str__(self):\n",
    "        return str(self.ID)+' '+self.url\n"
   ]
  },
  {
   "cell_type": "code",
   "execution_count": 4,
   "id": "d2429f8e",
   "metadata": {},
   "outputs": [],
   "source": [
    "#class below is for holding term frequency and list of holder classess\n",
    "class termValue:\n",
    "    def __init__(self):\n",
    "        self.frequency = 0\n",
    "        self.holderList = []\n",
    "    def addHolder(self,newHolder):\n",
    "        if newHolder not in self.holderList:\n",
    "            self.holderList.append(newHolder)"
   ]
  },
  {
   "cell_type": "code",
   "execution_count": 5,
   "id": "d578a880",
   "metadata": {},
   "outputs": [],
   "source": [
    "#function below is for calculating frequency of each term\n",
    "def frequencyCalc(myDictionary):\n",
    "    for i in myDictionary:\n",
    "        myDictionary[i].frequency = len(myDictionary[i].holderList)"
   ]
  },
  {
   "cell_type": "code",
   "execution_count": 6,
   "id": "fa1cfd79",
   "metadata": {},
   "outputs": [
    {
     "data": {
      "text/plain": [
       "\"\\n#algorithm below is for retrieval of the dictionary\\nmyFile = open('dictionary.txt',encoding = 'UTF-8')\\ntheDictionary = {}\\nfor i in myFile:\\n    res = i.split('$')\\n    if res[0] not in theDictionary:\\n        theDictionary[res[0]] = termValue()\\n        myHolder = holder(res[1],res[2])\\n        theDictionary[res[0]].addHolder(myHolder)\\n    else:\\n        myHolder = holder(res[1],res[2])\\n        theDictionary[res[0]].addHolder(myHolder)\\nmyFile.close()\\n\""
      ]
     },
     "execution_count": 6,
     "metadata": {},
     "output_type": "execute_result"
    }
   ],
   "source": [
    "\"\"\"\n",
    "#algorithm below is for retrieval of the dictionary\n",
    "myFile = open('dictionary.txt',encoding = 'UTF-8')\n",
    "theDictionary = {}\n",
    "for i in myFile:\n",
    "    res = i.split('$')\n",
    "    if res[0] not in theDictionary:\n",
    "        theDictionary[res[0]] = termValue()\n",
    "        myHolder = holder(res[1],res[2])\n",
    "        theDictionary[res[0]].addHolder(myHolder)\n",
    "    else:\n",
    "        myHolder = holder(res[1],res[2])\n",
    "        theDictionary[res[0]].addHolder(myHolder)\n",
    "myFile.close()\n",
    "\"\"\""
   ]
  },
  {
   "cell_type": "code",
   "execution_count": 7,
   "id": "f06cd85b",
   "metadata": {},
   "outputs": [
    {
     "data": {
      "text/plain": [
       "\"\\n#algorithm above was inefficient it took about 5 minutes so saving and retrival using pickle is better\\npickle.dump(theDictionary,open('dictionary','ab'))\\n\""
      ]
     },
     "execution_count": 7,
     "metadata": {},
     "output_type": "execute_result"
    }
   ],
   "source": [
    "\"\"\"\n",
    "#algorithm above was inefficient it took about 5 minutes so saving and retrival using pickle is better\n",
    "pickle.dump(theDictionary,open('dictionary','ab'))\n",
    "\"\"\""
   ]
  },
  {
   "cell_type": "code",
   "execution_count": 8,
   "id": "7e2c8742",
   "metadata": {},
   "outputs": [],
   "source": [
    "#code below is for retrival our dictionary\n",
    "theDictionary = pickle.load(open('dictionary','rb'))"
   ]
  },
  {
   "cell_type": "code",
   "execution_count": 9,
   "id": "94e8371f",
   "metadata": {},
   "outputs": [],
   "source": [
    "frequencyCalc(theDictionary)"
   ]
  },
  {
   "cell_type": "code",
   "execution_count": 10,
   "id": "bae3f994",
   "metadata": {},
   "outputs": [],
   "source": [
    "#list below is just for saving list of words\n",
    "wordsList = []\n",
    "for i in theDictionary:\n",
    "    wordsList.append(i)"
   ]
  },
  {
   "cell_type": "code",
   "execution_count": 11,
   "id": "bbe4aa38",
   "metadata": {},
   "outputs": [],
   "source": [
    "#normalize 1 method\n",
    "def normalize1(myList):\n",
    "    \"\"\"\"\n",
    "    we should remove some specific characters eg: we do not save dot in the end of sentence with the last word\n",
    "    we just need to remove if these specific chars are at the last of our word\n",
    "    \"\"\"\n",
    "    for i in range(len(myList)):\n",
    "        if myList[i].endswith('.'):\n",
    "            myList[i] = myList[i].replace('.','')\n",
    "        elif myList[i].endswith('،'):\n",
    "            myList[i] = myList[i].replace('،','')\n",
    "        elif myList[i].endswith(':'):\n",
    "            myList[i] = myList[i].replace(':','')\n",
    "        else:\n",
    "            pass\n",
    "    #the two last members means end of message and it is in all docs so we do not need it\n",
    "    myList.pop()\n",
    "    myList.pop()"
   ]
  },
  {
   "cell_type": "code",
   "execution_count": 12,
   "id": "9648be04",
   "metadata": {},
   "outputs": [],
   "source": [
    "#algorithm below is saving documents and their bag of words in dictionary docid as key and list of words as value\n",
    "bagOfWordsDic = {}\n",
    "for i in range(len(data)):\n",
    "    docId = data['id'][i]\n",
    "    listOfwords = data['content'][i].split()\n",
    "    normalize1(listOfwords)\n",
    "    bagOfWordsDic[docId] = wordsList"
   ]
  },
  {
   "cell_type": "code",
   "execution_count": 13,
   "id": "aaff5fc4",
   "metadata": {},
   "outputs": [],
   "source": [
    "#function below is for calculating tf\n",
    "def tf_calculator(term,document):\n",
    "    documentBagOfWords = document.split()\n",
    "    normalize1(documentBagOfWords)\n",
    "    n = documentBagOfWords.count(term)\n",
    "    if n == 0:\n",
    "        return 0\n",
    "    return 1+math.log(n)"
   ]
  },
  {
   "cell_type": "code",
   "execution_count": 14,
   "id": "6cfa78af",
   "metadata": {},
   "outputs": [],
   "source": [
    "#function below is for calculating idf\n",
    "def idf_calculator(term,N,myDictionary):\n",
    "    return math.log(N/myDictionary[term].frequency)"
   ]
  },
  {
   "cell_type": "code",
   "execution_count": 15,
   "id": "1b0a6915",
   "metadata": {},
   "outputs": [],
   "source": [
    "#function below is for calculating vector of a single document\n",
    "def createVector(document,myDictionary,N):\n",
    "    documentBagOfWords = document.split()\n",
    "    normalize1(documentBagOfWords)\n",
    "    resDict = {}\n",
    "    for i in documentBagOfWords:\n",
    "        resDict[i] = tf_calculator(i,document)*idf_calculator(i,N,myDictionary)\n",
    "    return resDict"
   ]
  },
  {
   "cell_type": "code",
   "execution_count": 41,
   "id": "3ea29b05",
   "metadata": {},
   "outputs": [],
   "source": [
    "#function below is for calculating vector for a query\n",
    "def createVectorV02(query,myDictionary,N):\n",
    "    queryBagOfWords = query.split()\n",
    "    normalize1(queryBagOfWords)\n",
    "    resDict = {}\n",
    "    for i in queryBagOfWords:\n",
    "        resDict[i] = tf_calculator(i,query)\n",
    "    return resDict"
   ]
  },
  {
   "cell_type": "code",
   "execution_count": 20,
   "id": "5a9cee76",
   "metadata": {},
   "outputs": [
    {
     "data": {
      "text/plain": [
       "\"\\n#algorithm below is for calculating all vector spaces\\nvectorDictionary = {}\\nfor i in range(len(data)):\\n    documentId = data['id'][i]\\n    documentUrl = data['url'][i]\\n    documentContent = data['content'][i]\\n    vectorDictionary[str(documentId)+' '+documentUrl] = createVector(documentContent,theDictionary,len(data))\\n\""
      ]
     },
     "execution_count": 20,
     "metadata": {},
     "output_type": "execute_result"
    }
   ],
   "source": [
    "\"\"\"\n",
    "#algorithm below is for calculating all vector spaces\n",
    "vectorDictionary = {}\n",
    "for i in range(len(data)):\n",
    "    documentId = data['id'][i]\n",
    "    documentUrl = data['url'][i]\n",
    "    documentContent = data['content'][i]\n",
    "    vectorDictionary[str(documentId)+' '+documentUrl] = createVector(documentContent,theDictionary,len(data))\n",
    "\"\"\""
   ]
  },
  {
   "cell_type": "code",
   "execution_count": 21,
   "id": "317bacc0",
   "metadata": {},
   "outputs": [],
   "source": [
    "#saving the vector dictionary\n",
    "#pickle.dump(vectorDictionary,open('vectorDictionary','ab'))"
   ]
  },
  {
   "cell_type": "code",
   "execution_count": 19,
   "id": "eb624ec2",
   "metadata": {},
   "outputs": [],
   "source": [
    "#loading vector dictionary\n",
    "vectorDictionary = pickle.load(open('vectorDictionary','rb'))"
   ]
  },
  {
   "cell_type": "code",
   "execution_count": 35,
   "id": "3a37246d",
   "metadata": {},
   "outputs": [],
   "source": [
    "#function below is for calculating size\n",
    "def size_calculate(vector):\n",
    "    res = 0\n",
    "    for i in vector:\n",
    "        res += math.pow(vector[i],2)\n",
    "    return math.sqrt(res)"
   ]
  },
  {
   "cell_type": "code",
   "execution_count": 60,
   "id": "ee13b41e",
   "metadata": {},
   "outputs": [],
   "source": [
    "#class below is for saving vectorid + similarity to a query\n",
    "class vectorSimilarity:\n",
    "    def __init__(self,similarityValue,vectorId):\n",
    "        self.similarityValue = similarityValue\n",
    "        self.vectorId = vectorId\n",
    "    def __str__(self):\n",
    "        return self.vectorId\n",
    "    def __lt__(self,obj):\n",
    "        return self.similarityValue < obj.similarityValue"
   ]
  },
  {
   "cell_type": "code",
   "execution_count": 61,
   "id": "63f8758b",
   "metadata": {},
   "outputs": [],
   "source": [
    "#calculating similarity between a document and query\n",
    "def cosineSimilarity(query,ID,URL,documentVectors,N):\n",
    "    queryVector = createVectorV02(query,theDictionary,N)\n",
    "    documentVector = documentVectors[str(ID)+' '+URL]\n",
    "    res = 0\n",
    "    for i in queryVector:\n",
    "        if i in documentVector:\n",
    "            res += queryVector[i]*documentVector[i]\n",
    "    return res/size_calculate(documentVector)"
   ]
  },
  {
   "cell_type": "code",
   "execution_count": 64,
   "id": "a2bc0157",
   "metadata": {},
   "outputs": [],
   "source": [
    "def engine():\n",
    "    query = input('enter query: ')\n",
    "    resList = []\n",
    "    for i in range(len(data)):\n",
    "        similarity = cosineSimilarity(query,data['id'][i],data['url'][i],vectorDictionary,len(data))\n",
    "        resList.append(vectorSimilarity(similarity,str(data['id'][i])+' '+data['url'][i],))\n",
    "    resList = sorted(resList,reverse = True)\n",
    "    for i in range(10):\n",
    "        print(resList[i])"
   ]
  },
  {
   "cell_type": "code",
   "execution_count": 76,
   "id": "7c9f73db",
   "metadata": {
    "scrolled": false
   },
   "outputs": [
    {
     "name": "stdout",
     "output_type": "stream",
     "text": [
      "enter query: تیم\n"
     ]
    },
    {
     "ename": "IndexError",
     "evalue": "pop from empty list",
     "output_type": "error",
     "traceback": [
      "\u001b[1;31m---------------------------------------------------------------------------\u001b[0m",
      "\u001b[1;31mIndexError\u001b[0m                                Traceback (most recent call last)",
      "\u001b[1;32m<ipython-input-76-180f3a515c04>\u001b[0m in \u001b[0;36m<module>\u001b[1;34m\u001b[0m\n\u001b[1;32m----> 1\u001b[1;33m \u001b[0mengine\u001b[0m\u001b[1;33m(\u001b[0m\u001b[1;33m)\u001b[0m\u001b[1;33m\u001b[0m\u001b[1;33m\u001b[0m\u001b[0m\n\u001b[0m",
      "\u001b[1;32m<ipython-input-64-f22414cb7290>\u001b[0m in \u001b[0;36mengine\u001b[1;34m()\u001b[0m\n\u001b[0;32m      3\u001b[0m     \u001b[0mresList\u001b[0m \u001b[1;33m=\u001b[0m \u001b[1;33m[\u001b[0m\u001b[1;33m]\u001b[0m\u001b[1;33m\u001b[0m\u001b[1;33m\u001b[0m\u001b[0m\n\u001b[0;32m      4\u001b[0m     \u001b[1;32mfor\u001b[0m \u001b[0mi\u001b[0m \u001b[1;32min\u001b[0m \u001b[0mrange\u001b[0m\u001b[1;33m(\u001b[0m\u001b[0mlen\u001b[0m\u001b[1;33m(\u001b[0m\u001b[0mdata\u001b[0m\u001b[1;33m)\u001b[0m\u001b[1;33m)\u001b[0m\u001b[1;33m:\u001b[0m\u001b[1;33m\u001b[0m\u001b[1;33m\u001b[0m\u001b[0m\n\u001b[1;32m----> 5\u001b[1;33m         \u001b[0msimilarity\u001b[0m \u001b[1;33m=\u001b[0m \u001b[0mcosineSimilarity\u001b[0m\u001b[1;33m(\u001b[0m\u001b[0mquery\u001b[0m\u001b[1;33m,\u001b[0m\u001b[0mdata\u001b[0m\u001b[1;33m[\u001b[0m\u001b[1;34m'id'\u001b[0m\u001b[1;33m]\u001b[0m\u001b[1;33m[\u001b[0m\u001b[0mi\u001b[0m\u001b[1;33m]\u001b[0m\u001b[1;33m,\u001b[0m\u001b[0mdata\u001b[0m\u001b[1;33m[\u001b[0m\u001b[1;34m'url'\u001b[0m\u001b[1;33m]\u001b[0m\u001b[1;33m[\u001b[0m\u001b[0mi\u001b[0m\u001b[1;33m]\u001b[0m\u001b[1;33m,\u001b[0m\u001b[0mvectorDictionary\u001b[0m\u001b[1;33m,\u001b[0m\u001b[0mlen\u001b[0m\u001b[1;33m(\u001b[0m\u001b[0mdata\u001b[0m\u001b[1;33m)\u001b[0m\u001b[1;33m)\u001b[0m\u001b[1;33m\u001b[0m\u001b[1;33m\u001b[0m\u001b[0m\n\u001b[0m\u001b[0;32m      6\u001b[0m         \u001b[0mresList\u001b[0m\u001b[1;33m.\u001b[0m\u001b[0mappend\u001b[0m\u001b[1;33m(\u001b[0m\u001b[0mvectorSimilarity\u001b[0m\u001b[1;33m(\u001b[0m\u001b[0msimilarity\u001b[0m\u001b[1;33m,\u001b[0m\u001b[0mstr\u001b[0m\u001b[1;33m(\u001b[0m\u001b[0mdata\u001b[0m\u001b[1;33m[\u001b[0m\u001b[1;34m'id'\u001b[0m\u001b[1;33m]\u001b[0m\u001b[1;33m[\u001b[0m\u001b[0mi\u001b[0m\u001b[1;33m]\u001b[0m\u001b[1;33m)\u001b[0m\u001b[1;33m+\u001b[0m\u001b[1;34m' '\u001b[0m\u001b[1;33m+\u001b[0m\u001b[0mdata\u001b[0m\u001b[1;33m[\u001b[0m\u001b[1;34m'url'\u001b[0m\u001b[1;33m]\u001b[0m\u001b[1;33m[\u001b[0m\u001b[0mi\u001b[0m\u001b[1;33m]\u001b[0m\u001b[1;33m,\u001b[0m\u001b[1;33m)\u001b[0m\u001b[1;33m)\u001b[0m\u001b[1;33m\u001b[0m\u001b[1;33m\u001b[0m\u001b[0m\n\u001b[0;32m      7\u001b[0m     \u001b[0mresList\u001b[0m \u001b[1;33m=\u001b[0m \u001b[0msorted\u001b[0m\u001b[1;33m(\u001b[0m\u001b[0mresList\u001b[0m\u001b[1;33m,\u001b[0m\u001b[0mreverse\u001b[0m \u001b[1;33m=\u001b[0m \u001b[1;32mTrue\u001b[0m\u001b[1;33m)\u001b[0m\u001b[1;33m\u001b[0m\u001b[1;33m\u001b[0m\u001b[0m\n",
      "\u001b[1;32m<ipython-input-61-1aad666f4bc7>\u001b[0m in \u001b[0;36mcosineSimilarity\u001b[1;34m(query, ID, URL, documentVectors, N)\u001b[0m\n\u001b[0;32m      1\u001b[0m \u001b[1;31m#calculating similarity between a document and query\u001b[0m\u001b[1;33m\u001b[0m\u001b[1;33m\u001b[0m\u001b[1;33m\u001b[0m\u001b[0m\n\u001b[0;32m      2\u001b[0m \u001b[1;32mdef\u001b[0m \u001b[0mcosineSimilarity\u001b[0m\u001b[1;33m(\u001b[0m\u001b[0mquery\u001b[0m\u001b[1;33m,\u001b[0m\u001b[0mID\u001b[0m\u001b[1;33m,\u001b[0m\u001b[0mURL\u001b[0m\u001b[1;33m,\u001b[0m\u001b[0mdocumentVectors\u001b[0m\u001b[1;33m,\u001b[0m\u001b[0mN\u001b[0m\u001b[1;33m)\u001b[0m\u001b[1;33m:\u001b[0m\u001b[1;33m\u001b[0m\u001b[1;33m\u001b[0m\u001b[0m\n\u001b[1;32m----> 3\u001b[1;33m     \u001b[0mqueryVector\u001b[0m \u001b[1;33m=\u001b[0m \u001b[0mcreateVectorV02\u001b[0m\u001b[1;33m(\u001b[0m\u001b[0mquery\u001b[0m\u001b[1;33m,\u001b[0m\u001b[0mtheDictionary\u001b[0m\u001b[1;33m,\u001b[0m\u001b[0mN\u001b[0m\u001b[1;33m)\u001b[0m\u001b[1;33m\u001b[0m\u001b[1;33m\u001b[0m\u001b[0m\n\u001b[0m\u001b[0;32m      4\u001b[0m     \u001b[0mdocumentVector\u001b[0m \u001b[1;33m=\u001b[0m \u001b[0mdocumentVectors\u001b[0m\u001b[1;33m[\u001b[0m\u001b[0mstr\u001b[0m\u001b[1;33m(\u001b[0m\u001b[0mID\u001b[0m\u001b[1;33m)\u001b[0m\u001b[1;33m+\u001b[0m\u001b[1;34m' '\u001b[0m\u001b[1;33m+\u001b[0m\u001b[0mURL\u001b[0m\u001b[1;33m]\u001b[0m\u001b[1;33m\u001b[0m\u001b[1;33m\u001b[0m\u001b[0m\n\u001b[0;32m      5\u001b[0m     \u001b[0mres\u001b[0m \u001b[1;33m=\u001b[0m \u001b[1;36m0\u001b[0m\u001b[1;33m\u001b[0m\u001b[1;33m\u001b[0m\u001b[0m\n",
      "\u001b[1;32m<ipython-input-41-a15362e54e03>\u001b[0m in \u001b[0;36mcreateVectorV02\u001b[1;34m(query, myDictionary, N)\u001b[0m\n\u001b[0;32m      2\u001b[0m \u001b[1;32mdef\u001b[0m \u001b[0mcreateVectorV02\u001b[0m\u001b[1;33m(\u001b[0m\u001b[0mquery\u001b[0m\u001b[1;33m,\u001b[0m\u001b[0mmyDictionary\u001b[0m\u001b[1;33m,\u001b[0m\u001b[0mN\u001b[0m\u001b[1;33m)\u001b[0m\u001b[1;33m:\u001b[0m\u001b[1;33m\u001b[0m\u001b[1;33m\u001b[0m\u001b[0m\n\u001b[0;32m      3\u001b[0m     \u001b[0mqueryBagOfWords\u001b[0m \u001b[1;33m=\u001b[0m \u001b[0mquery\u001b[0m\u001b[1;33m.\u001b[0m\u001b[0msplit\u001b[0m\u001b[1;33m(\u001b[0m\u001b[1;33m)\u001b[0m\u001b[1;33m\u001b[0m\u001b[1;33m\u001b[0m\u001b[0m\n\u001b[1;32m----> 4\u001b[1;33m     \u001b[0mnormalize1\u001b[0m\u001b[1;33m(\u001b[0m\u001b[0mqueryBagOfWords\u001b[0m\u001b[1;33m)\u001b[0m\u001b[1;33m\u001b[0m\u001b[1;33m\u001b[0m\u001b[0m\n\u001b[0m\u001b[0;32m      5\u001b[0m     \u001b[0mresDict\u001b[0m \u001b[1;33m=\u001b[0m \u001b[1;33m{\u001b[0m\u001b[1;33m}\u001b[0m\u001b[1;33m\u001b[0m\u001b[1;33m\u001b[0m\u001b[0m\n\u001b[0;32m      6\u001b[0m     \u001b[1;32mfor\u001b[0m \u001b[0mi\u001b[0m \u001b[1;32min\u001b[0m \u001b[0mqueryBagOfWords\u001b[0m\u001b[1;33m:\u001b[0m\u001b[1;33m\u001b[0m\u001b[1;33m\u001b[0m\u001b[0m\n",
      "\u001b[1;32m<ipython-input-11-00fac27673a7>\u001b[0m in \u001b[0;36mnormalize1\u001b[1;34m(myList)\u001b[0m\n\u001b[0;32m     16\u001b[0m     \u001b[1;31m#the two last members means end of message and it is in all docs so we do not need it\u001b[0m\u001b[1;33m\u001b[0m\u001b[1;33m\u001b[0m\u001b[1;33m\u001b[0m\u001b[0m\n\u001b[0;32m     17\u001b[0m     \u001b[0mmyList\u001b[0m\u001b[1;33m.\u001b[0m\u001b[0mpop\u001b[0m\u001b[1;33m(\u001b[0m\u001b[1;33m)\u001b[0m\u001b[1;33m\u001b[0m\u001b[1;33m\u001b[0m\u001b[0m\n\u001b[1;32m---> 18\u001b[1;33m     \u001b[0mmyList\u001b[0m\u001b[1;33m.\u001b[0m\u001b[0mpop\u001b[0m\u001b[1;33m(\u001b[0m\u001b[1;33m)\u001b[0m\u001b[1;33m\u001b[0m\u001b[1;33m\u001b[0m\u001b[0m\n\u001b[0m",
      "\u001b[1;31mIndexError\u001b[0m: pop from empty list"
     ]
    }
   ],
   "source": [
    "engine()"
   ]
  },
  {
   "cell_type": "code",
   "execution_count": null,
   "id": "d4c3f23e",
   "metadata": {},
   "outputs": [],
   "source": []
  }
 ],
 "metadata": {
  "kernelspec": {
   "display_name": "Python 3",
   "language": "python",
   "name": "python3"
  },
  "language_info": {
   "codemirror_mode": {
    "name": "ipython",
    "version": 3
   },
   "file_extension": ".py",
   "mimetype": "text/x-python",
   "name": "python",
   "nbconvert_exporter": "python",
   "pygments_lexer": "ipython3",
   "version": "3.8.8"
  }
 },
 "nbformat": 4,
 "nbformat_minor": 5
}
