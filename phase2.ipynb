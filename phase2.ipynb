{
 "cells": [
  {
   "cell_type": "code",
   "execution_count": 1,
   "id": "e47d2e1f",
   "metadata": {},
   "outputs": [],
   "source": [
    "import pandas as pd\n",
    "import math\n",
    "import pickle"
   ]
  },
  {
   "cell_type": "code",
   "execution_count": 2,
   "id": "97d526e7",
   "metadata": {},
   "outputs": [],
   "source": [
    "data = pd.read_excel('IR_Spring2021_ph12_7k.xlsx')"
   ]
  },
  {
   "cell_type": "code",
   "execution_count": 3,
   "id": "89e51489",
   "metadata": {},
   "outputs": [],
   "source": [
    "#class below is for holding single id and single url\n",
    "class holder:\n",
    "    def __init__(self,ID = 0,url = None):\n",
    "        self.ID = ID\n",
    "        self.url = url\n",
    "    def __eq__(self,obj):\n",
    "        return str(self.ID)+self.url == str(obj.ID)+obj.url\n",
    "    def __str__(self):\n",
    "        return str(self.ID)+' '+self.url\n"
   ]
  },
  {
   "cell_type": "code",
   "execution_count": 4,
   "id": "d2429f8e",
   "metadata": {},
   "outputs": [],
   "source": [
    "#class below is for holding term frequency and list of holder classess\n",
    "class termValue:\n",
    "    def __init__(self):\n",
    "        self.frequency = 0\n",
    "        self.holderList = []\n",
    "    def addHolder(self,newHolder):\n",
    "        if newHolder not in self.holderList:\n",
    "            self.holderList.append(newHolder)"
   ]
  },
  {
   "cell_type": "code",
   "execution_count": 5,
   "id": "d578a880",
   "metadata": {},
   "outputs": [],
   "source": [
    "#function below is for calculating frequency of each term\n",
    "def frequencyCalc(myDictionary):\n",
    "    for i in myDictionary:\n",
    "        myDictionary[i].frequency = len(myDictionary[i].holderList)"
   ]
  },
  {
   "cell_type": "code",
   "execution_count": 6,
   "id": "fa1cfd79",
   "metadata": {},
   "outputs": [
    {
     "data": {
      "text/plain": [
       "\"\\n#algorithm below is for retrieval of the dictionary\\nmyFile = open('dictionary.txt',encoding = 'UTF-8')\\ntheDictionary = {}\\nfor i in myFile:\\n    res = i.split('$')\\n    if res[0] not in theDictionary:\\n        theDictionary[res[0]] = termValue()\\n        myHolder = holder(res[1],res[2])\\n        theDictionary[res[0]].addHolder(myHolder)\\n    else:\\n        myHolder = holder(res[1],res[2])\\n        theDictionary[res[0]].addHolder(myHolder)\\nmyFile.close()\\n\""
      ]
     },
     "execution_count": 6,
     "metadata": {},
     "output_type": "execute_result"
    }
   ],
   "source": [
    "\"\"\"\n",
    "#algorithm below is for retrieval of the dictionary\n",
    "myFile = open('dictionary.txt',encoding = 'UTF-8')\n",
    "theDictionary = {}\n",
    "for i in myFile:\n",
    "    res = i.split('$')\n",
    "    if res[0] not in theDictionary:\n",
    "        theDictionary[res[0]] = termValue()\n",
    "        myHolder = holder(res[1],res[2])\n",
    "        theDictionary[res[0]].addHolder(myHolder)\n",
    "    else:\n",
    "        myHolder = holder(res[1],res[2])\n",
    "        theDictionary[res[0]].addHolder(myHolder)\n",
    "myFile.close()\n",
    "\"\"\""
   ]
  },
  {
   "cell_type": "code",
   "execution_count": 7,
   "id": "f06cd85b",
   "metadata": {},
   "outputs": [
    {
     "data": {
      "text/plain": [
       "\"\\n#algorithm above was inefficient it took about 5 minutes so saving and retrival using pickle is better\\npickle.dump(theDictionary,open('dictionary','ab'))\\n\""
      ]
     },
     "execution_count": 7,
     "metadata": {},
     "output_type": "execute_result"
    }
   ],
   "source": [
    "\"\"\"\n",
    "#algorithm above was inefficient it took about 5 minutes so saving and retrival using pickle is better\n",
    "pickle.dump(theDictionary,open('dictionary','ab'))\n",
    "\"\"\""
   ]
  },
  {
   "cell_type": "code",
   "execution_count": 8,
   "id": "7e2c8742",
   "metadata": {},
   "outputs": [],
   "source": [
    "#code below is for retrival our dictionary\n",
    "theDictionary = pickle.load(open('dictionary','rb'))"
   ]
  },
  {
   "cell_type": "code",
   "execution_count": 9,
   "id": "94e8371f",
   "metadata": {},
   "outputs": [],
   "source": [
    "frequencyCalc(theDictionary)"
   ]
  },
  {
   "cell_type": "code",
   "execution_count": 10,
   "id": "bae3f994",
   "metadata": {},
   "outputs": [],
   "source": [
    "#list below is just for saving list of words\n",
    "wordsList = []\n",
    "for i in theDictionary:\n",
    "    wordsList.append(i)"
   ]
  },
  {
   "cell_type": "code",
   "execution_count": 11,
   "id": "bbe4aa38",
   "metadata": {},
   "outputs": [],
   "source": [
    "#normalize 1 method\n",
    "def normalize1(myList):\n",
    "    \"\"\"\"\n",
    "    we should remove some specific characters eg: we do not save dot in the end of sentence with the last word\n",
    "    we just need to remove if these specific chars are at the last of our word\n",
    "    \"\"\"\n",
    "    for i in range(len(myList)):\n",
    "        if myList[i].endswith('.'):\n",
    "            myList[i] = myList[i].replace('.','')\n",
    "        elif myList[i].endswith('،'):\n",
    "            myList[i] = myList[i].replace('،','')\n",
    "        elif myList[i].endswith(':'):\n",
    "            myList[i] = myList[i].replace(':','')\n",
    "        else:\n",
    "            pass\n",
    "    #the two last members means end of message and it is in all docs so we do not need it\n",
    "    myList.pop()\n",
    "    myList.pop()"
   ]
  },
  {
   "cell_type": "code",
   "execution_count": 12,
   "id": "9648be04",
   "metadata": {},
   "outputs": [],
   "source": [
    "#algorithm below is saving documents and their bag of words in dictionary docid as key and list of words as value\n",
    "bagOfWordsDic = {}\n",
    "for i in range(len(data)):\n",
    "    docId = data['id'][i]\n",
    "    listOfwords = data['content'][i].split()\n",
    "    normalize1(listOfwords)\n",
    "    bagOfWordsDic[docId] = wordsList"
   ]
  },
  {
   "cell_type": "code",
   "execution_count": 13,
   "id": "aaff5fc4",
   "metadata": {},
   "outputs": [],
   "source": [
    "#function below is for calculating tf\n",
    "def tf_calculator(term,document):\n",
    "    documentBagOfWords = document.split()\n",
    "    normalize1(documentBagOfWords)\n",
    "    n = documentBagOfWords.count(term)\n",
    "    if n == 0:\n",
    "        return 0\n",
    "    return 1+math.log(n)"
   ]
  },
  {
   "cell_type": "code",
   "execution_count": 14,
   "id": "7632ef3e",
   "metadata": {},
   "outputs": [],
   "source": [
    "#function below is for calculating tf for a query\n",
    "def tf_calculatorV02(term,query):\n",
    "    queryBagOfWords = query.split()\n",
    "    n = queryBagOfWords.count(term)\n",
    "    if n == 0:\n",
    "        return 0\n",
    "    return 1+math.log(n)"
   ]
  },
  {
   "cell_type": "code",
   "execution_count": 15,
   "id": "6cfa78af",
   "metadata": {},
   "outputs": [],
   "source": [
    "#function below is for calculating idf\n",
    "def idf_calculator(term,N,myDictionary):\n",
    "    return math.log(N/myDictionary[term].frequency)"
   ]
  },
  {
   "cell_type": "code",
   "execution_count": 16,
   "id": "1b0a6915",
   "metadata": {},
   "outputs": [],
   "source": [
    "#function below is for calculating vector of a single document\n",
    "def createVector(document,myDictionary,N):\n",
    "    documentBagOfWords = document.split()\n",
    "    normalize1(documentBagOfWords)\n",
    "    resDict = {}\n",
    "    for i in documentBagOfWords:\n",
    "        resDict[i] = tf_calculator(i,document)*idf_calculator(i,N,myDictionary)\n",
    "    return resDict"
   ]
  },
  {
   "cell_type": "code",
   "execution_count": 17,
   "id": "3ea29b05",
   "metadata": {},
   "outputs": [],
   "source": [
    "#function below is for calculating vector for a query\n",
    "def createVectorV02(query,myDictionary,N):\n",
    "    queryBagOfWords = query.split()\n",
    "    resDict = {}\n",
    "    for i in queryBagOfWords:\n",
    "        resDict[i] = tf_calculatorV02(i,query)\n",
    "    return resDict"
   ]
  },
  {
   "cell_type": "code",
   "execution_count": 18,
   "id": "5a9cee76",
   "metadata": {},
   "outputs": [
    {
     "data": {
      "text/plain": [
       "\"\\n#algorithm below is for calculating all vector spaces\\nvectorDictionary = {}\\nfor i in range(len(data)):\\n    documentId = data['id'][i]\\n    documentUrl = data['url'][i]\\n    documentContent = data['content'][i]\\n    vectorDictionary[str(documentId)+' '+documentUrl] = createVector(documentContent,theDictionary,len(data))\\n\""
      ]
     },
     "execution_count": 18,
     "metadata": {},
     "output_type": "execute_result"
    }
   ],
   "source": [
    "\"\"\"\n",
    "#algorithm below is for calculating all vector spaces\n",
    "vectorDictionary = {}\n",
    "for i in range(len(data)):\n",
    "    documentId = data['id'][i]\n",
    "    documentUrl = data['url'][i]\n",
    "    documentContent = data['content'][i]\n",
    "    vectorDictionary[str(documentId)+' '+documentUrl] = createVector(documentContent,theDictionary,len(data))\n",
    "\"\"\""
   ]
  },
  {
   "cell_type": "code",
   "execution_count": 19,
   "id": "317bacc0",
   "metadata": {},
   "outputs": [],
   "source": [
    "#saving the vector dictionary\n",
    "#pickle.dump(vectorDictionary,open('vectorDictionary','ab'))"
   ]
  },
  {
   "cell_type": "code",
   "execution_count": 20,
   "id": "eb624ec2",
   "metadata": {},
   "outputs": [],
   "source": [
    "#loading vector dictionary\n",
    "vectorDictionary = pickle.load(open('vectorDictionary','rb'))"
   ]
  },
  {
   "cell_type": "code",
   "execution_count": 21,
   "id": "3a37246d",
   "metadata": {},
   "outputs": [],
   "source": [
    "#function below is for calculating size\n",
    "def size_calculate(vector):\n",
    "    res = 0\n",
    "    for i in vector:\n",
    "        res += math.pow(vector[i],2)\n",
    "    return math.sqrt(res)"
   ]
  },
  {
   "cell_type": "code",
   "execution_count": 22,
   "id": "ee13b41e",
   "metadata": {},
   "outputs": [],
   "source": [
    "#class below is for saving vectorid + similarity to a query\n",
    "class vectorSimilarity:\n",
    "    def __init__(self,similarityValue,vectorId):\n",
    "        self.similarityValue = similarityValue\n",
    "        self.vectorId = vectorId\n",
    "    def __str__(self):\n",
    "        return self.vectorId\n",
    "    def __lt__(self,obj):\n",
    "        return self.similarityValue < obj.similarityValue\n",
    "    def __eq__(self,obj):\n",
    "        return self.vectorId == obj.vectorId"
   ]
  },
  {
   "cell_type": "code",
   "execution_count": 23,
   "id": "63f8758b",
   "metadata": {},
   "outputs": [],
   "source": [
    "#calculating similarity between a document and query\n",
    "def cosineSimilarity(query,ID,URL,documentVectors,N):\n",
    "    queryVector = createVectorV02(query,theDictionary,N)\n",
    "    documentVector = documentVectors[str(ID)+' '+URL]\n",
    "    res = 0\n",
    "    for i in queryVector:\n",
    "        if i in documentVector:\n",
    "            res += queryVector[i]*documentVector[i]\n",
    "    return res/size_calculate(documentVector)"
   ]
  },
  {
   "cell_type": "code",
   "execution_count": 24,
   "id": "a2bc0157",
   "metadata": {},
   "outputs": [],
   "source": [
    "#engine below does not use index elimination or any champions list\n",
    "def engineV01():\n",
    "    query = input('enter query: ')\n",
    "    resList = []\n",
    "    for i in range(len(data)):\n",
    "        similarity = cosineSimilarity(query,data['id'][i],data['url'][i],vectorDictionary,len(data))\n",
    "        resList.append(vectorSimilarity(similarity,str(data['id'][i])+' '+data['url'][i]))\n",
    "    resList = sorted(resList,reverse = True)\n",
    "    for i in range(10):\n",
    "        print(resList[i])"
   ]
  },
  {
   "cell_type": "code",
   "execution_count": 26,
   "id": "7c9f73db",
   "metadata": {
    "scrolled": true
   },
   "outputs": [
    {
     "name": "stdout",
     "output_type": "stream",
     "text": [
      "enter query: تیم استقلال\n",
      "801 https://www.isna.ir/news/99100805979/استقلال-وارد-لیگ-برتر-تکواندو-شد\n",
      "915 https://www.isna.ir/news/99111309632/شکایت-استقلال-در-کمیته-انضباطی-فدراسیون-کشتی-بررسی-می-شود\n",
      "1480 https://www.isna.ir/news/98090805350/حضور-فتحی-در-اردوی-استقلال-پیش-از-بازی-با-سپاهان-آبی-ها-پاداش\n",
      "375 https://www.isna.ir/news/99052317094/راه-اندازی-آکادمی-کشتی-استقلال-در-ورزشگاه-شیرودی\n",
      "772 https://www.isna.ir/news/99092317918/شکایت-استقلال-از-یزدانی-و-امامی-به-کمیته-انضباطی-فدراسیون-کشتی\n",
      "1054 https://www.isna.ir/news/98011806263/اخراج-نعمتی-نژاد-بعد-از-دو-بازی-سیدمحمد-علوی-سرمربی-استقلال\n",
      "778 https://www.isna.ir/news/99092721341/استقلال-با-نیمی-از-نفرات-در-فینال-لیگ-کشتی-رضا-یزدانی-هم-به\n",
      "527 https://www.isna.ir/news/99071007686/رضا-یزدانی-کنار-تشک-نرفت-علیرضا-رضایی-ناظر-عملکرد-استقلالی-ها\n",
      "1388 https://www.isna.ir/news/98072317715/سهراب-بختیاری-زاده-سرمربی-استقلال-خوزستان-شد\n",
      "418 https://www.isna.ir/news/99060605427/جلسه-فوری-کادر-مدیریتی-استقلال-برای-استعفای-مجیدی\n"
     ]
    }
   ],
   "source": [
    "#testing engine V01\n",
    "engineV01()"
   ]
  },
  {
   "cell_type": "code",
   "execution_count": 27,
   "id": "7e213689",
   "metadata": {},
   "outputs": [],
   "source": [
    "#function below is for getting terms from query that exist in our dictionary\n",
    "def queryDictionarySharing(query,myDictionary):\n",
    "    queryWords = query.split()\n",
    "    res = []\n",
    "    for i in queryWords:\n",
    "        if i in myDictionary and i not in res:\n",
    "            res.append(i)\n",
    "    return res"
   ]
  },
  {
   "cell_type": "code",
   "execution_count": 28,
   "id": "f403707a",
   "metadata": {},
   "outputs": [],
   "source": [
    "#function below is for engine when it use index elimination tecnique\n",
    "#for this i consider only checking documents that having at least one query term\n",
    "def engineV02():\n",
    "    query = input('enter query: ')\n",
    "    resDocs = []\n",
    "    sharedWords = queryDictionarySharing(query,theDictionary)\n",
    "    if len(sharedWords) == 0:\n",
    "        print('no result')\n",
    "        return \n",
    "    for i in sharedWords:\n",
    "        holderList = theDictionary[i].holderList\n",
    "        for j in holderList:\n",
    "            if j not in resDocs:\n",
    "                resDocs.append(j)\n",
    "    finalRes = []\n",
    "    for i in resDocs:\n",
    "        Id = i.ID\n",
    "        url = i.url\n",
    "        similarity = cosineSimilarity(query,Id,url.replace('\\n',''),vectorDictionary,len(data))\n",
    "        finalRes.append(vectorSimilarity(similarity,str(Id)+' '+url))\n",
    "    finalRes = sorted(finalRes,reverse = True)\n",
    "    if len(finalRes) >= 10:\n",
    "        for i in range(10):\n",
    "            print(finalRes[i])\n",
    "    else:\n",
    "        for i in finalRes:\n",
    "            print(i)"
   ]
  },
  {
   "cell_type": "code",
   "execution_count": 31,
   "id": "461279a2",
   "metadata": {
    "scrolled": false
   },
   "outputs": [
    {
     "name": "stdout",
     "output_type": "stream",
     "text": [
      "enter query: تیم استقلال\n",
      "801 https://www.isna.ir/news/99100805979/استقلال-وارد-لیگ-برتر-تکواندو-شد\n",
      "\n",
      "915 https://www.isna.ir/news/99111309632/شکایت-استقلال-در-کمیته-انضباطی-فدراسیون-کشتی-بررسی-می-شود\n",
      "\n",
      "1480 https://www.isna.ir/news/98090805350/حضور-فتحی-در-اردوی-استقلال-پیش-از-بازی-با-سپاهان-آبی-ها-پاداش\n",
      "\n",
      "375 https://www.isna.ir/news/99052317094/راه-اندازی-آکادمی-کشتی-استقلال-در-ورزشگاه-شیرودی\n",
      "\n",
      "772 https://www.isna.ir/news/99092317918/شکایت-استقلال-از-یزدانی-و-امامی-به-کمیته-انضباطی-فدراسیون-کشتی\n",
      "\n",
      "1054 https://www.isna.ir/news/98011806263/اخراج-نعمتی-نژاد-بعد-از-دو-بازی-سیدمحمد-علوی-سرمربی-استقلال\n",
      "\n",
      "778 https://www.isna.ir/news/99092721341/استقلال-با-نیمی-از-نفرات-در-فینال-لیگ-کشتی-رضا-یزدانی-هم-به\n",
      "\n",
      "527 https://www.isna.ir/news/99071007686/رضا-یزدانی-کنار-تشک-نرفت-علیرضا-رضایی-ناظر-عملکرد-استقلالی-ها\n",
      "\n",
      "1388 https://www.isna.ir/news/98072317715/سهراب-بختیاری-زاده-سرمربی-استقلال-خوزستان-شد\n",
      "\n",
      "418 https://www.isna.ir/news/99060605427/جلسه-فوری-کادر-مدیریتی-استقلال-برای-استعفای-مجیدی\n",
      "\n"
     ]
    }
   ],
   "source": [
    "engineV02()"
   ]
  },
  {
   "cell_type": "code",
   "execution_count": 32,
   "id": "3b345836",
   "metadata": {},
   "outputs": [],
   "source": [
    "#class below is for holding single id and single url and the weight of term and this is for champion dictionary\n",
    "class holderV02:\n",
    "    def __init__(self,ID = 0,url = None,weight = 0):\n",
    "        self.ID = ID\n",
    "        self.url = url\n",
    "        self.weight = weight\n",
    "    def __eq__(self,obj):\n",
    "        return str(self.ID)+self.url == str(obj.ID)+obj.url\n",
    "    def __str__(self):\n",
    "        return str(self.ID)+' '+self.url\n",
    "    def __lt__(self,obj):\n",
    "        return self.weight < obj.weight\n"
   ]
  },
  {
   "cell_type": "code",
   "execution_count": 33,
   "id": "02ed2c6b",
   "metadata": {},
   "outputs": [
    {
     "data": {
      "text/plain": [
       "\"\\n#function below if for creating our dictionary\\ndef createChampionDictionary(myData):\\n    #dictionary data structure below is for holding term and frequency and holderLists\\n    #finally our form is like {term:(freq,[listOfHolders])}\\n    #dictionary[term] is termValue class object that contains freq+lisOfHolders that is object of holder class\\n    championDictionary = {}\\n    for counter in range(len(myData)):\\n        x = myData['content'][counter].split()\\n        y = myData['id'][counter]\\n        z = myData['url'][counter]\\n        normalize1(x)\\n        for i in x:\\n            if i not in championDictionary:\\n                championDictionary[i] = termValue()\\n                myHolder = holderV02(y,z,x.count(i))\\n                championDictionary[i].addHolder(myHolder)\\n            else:\\n                myHolder = holderV02(y,z,x.count(i))\\n                championDictionary[i].addHolder(myHolder)\\n    for i in championDictionary:\\n        championDictionary[i].holderList = sorted(championDictionary[i].holderList,reverse = True)\\n        if len(championDictionary[i].holderList) > 10:\\n            championDictionary[i].holderList = championDictionary[i].holderList[:10]\\n    return championDictionary\\n\""
      ]
     },
     "execution_count": 33,
     "metadata": {},
     "output_type": "execute_result"
    }
   ],
   "source": [
    "\"\"\"\n",
    "#function below if for creating our dictionary\n",
    "def createChampionDictionary(myData):\n",
    "    #dictionary data structure below is for holding term and frequency and holderLists\n",
    "    #finally our form is like {term:(freq,[listOfHolders])}\n",
    "    #dictionary[term] is termValue class object that contains freq+lisOfHolders that is object of holder class\n",
    "    championDictionary = {}\n",
    "    for counter in range(len(myData)):\n",
    "        x = myData['content'][counter].split()\n",
    "        y = myData['id'][counter]\n",
    "        z = myData['url'][counter]\n",
    "        normalize1(x)\n",
    "        for i in x:\n",
    "            if i not in championDictionary:\n",
    "                championDictionary[i] = termValue()\n",
    "                myHolder = holderV02(y,z,x.count(i))\n",
    "                championDictionary[i].addHolder(myHolder)\n",
    "            else:\n",
    "                myHolder = holderV02(y,z,x.count(i))\n",
    "                championDictionary[i].addHolder(myHolder)\n",
    "    for i in championDictionary:\n",
    "        championDictionary[i].holderList = sorted(championDictionary[i].holderList,reverse = True)\n",
    "        if len(championDictionary[i].holderList) > 10:\n",
    "            championDictionary[i].holderList = championDictionary[i].holderList[:10]\n",
    "    return championDictionary\n",
    "\"\"\""
   ]
  },
  {
   "cell_type": "code",
   "execution_count": 34,
   "id": "2056159f",
   "metadata": {},
   "outputs": [],
   "source": [
    "#championDictionary = createChampionDictionary(data)"
   ]
  },
  {
   "cell_type": "code",
   "execution_count": 35,
   "id": "a9f7b246",
   "metadata": {},
   "outputs": [],
   "source": [
    "#pickle.dump(championDictionary,open('championDictionary','ab'))"
   ]
  },
  {
   "cell_type": "code",
   "execution_count": 36,
   "id": "79f2d185",
   "metadata": {},
   "outputs": [],
   "source": [
    "championDictionary = pickle.load(open('championDictionary','rb'))"
   ]
  },
  {
   "cell_type": "code",
   "execution_count": 37,
   "id": "a70fc70d",
   "metadata": {},
   "outputs": [],
   "source": [
    "#function below is for engine when it use index elimination and champion list tecnique\n",
    "#for this i consider only checking documents that having at least one query term and r for champion is 10\n",
    "def engineV03():\n",
    "    query = input('enter query: ')\n",
    "    resDocs = []\n",
    "    sharedWords = queryDictionarySharing(query,championDictionary)\n",
    "    if len(sharedWords) == 0:\n",
    "        print('no result')\n",
    "        return \n",
    "    for i in sharedWords:\n",
    "        holderList = championDictionary[i].holderList\n",
    "        for j in holderList:\n",
    "            if j not in resDocs:\n",
    "                resDocs.append(j)\n",
    "    finalRes = []\n",
    "    for i in resDocs:\n",
    "        Id = i.ID\n",
    "        url = i.url\n",
    "        similarity = cosineSimilarity(query,Id,url.replace('\\n',''),vectorDictionary,len(data))\n",
    "        finalRes.append(vectorSimilarity(similarity,str(Id)+' '+url))\n",
    "    finalRes = sorted(finalRes,reverse = True)\n",
    "    if len(finalRes) >= 10:\n",
    "        for i in range(10):\n",
    "            print(finalRes[i])\n",
    "    else:\n",
    "        for i in finalRes:\n",
    "            print(i)"
   ]
  },
  {
   "cell_type": "code",
   "execution_count": 40,
   "id": "bc8bd8b2",
   "metadata": {
    "scrolled": false
   },
   "outputs": [
    {
     "name": "stdout",
     "output_type": "stream",
     "text": [
      "enter query: تیم استقلال\n",
      "419 https://www.isna.ir/news/99060605132/مرفاوی-استقلال-مقابل-پرسپولیس-مستحق-برد-بود-نباید-تیم-را-به\n",
      "331 https://www.isna.ir/news/99050705106/اکبرپور-استقلال-تفکرش-را-بر-حریف-تحمیل-کرد-هواداران-حق-دارند\n",
      "2159 https://www.isna.ir/news/99072115820/نوید-مجلس-به-هواداران-استقلال-برای-حل-مشکلات-این-باشگاه\n",
      "278 https://www.isna.ir/news/99041914462/پشت-پرده-برگزاری-استقلال-تراکتور-امکان-بازنده-شدن-آبی-ها-مقابل\n",
      "881 https://www.isna.ir/news/99110402541/درگیری-لفظی-فکری-با-سرپرست-سایپا-اعتراض-آبی-ها-داور-را-از-اخراج\n",
      "1206 https://www.isna.ir/news/98041507647/وقتی-ایجنت-کی-روش-و-پژمان-منتظری-یک-نفر-است-سند\n",
      "440 https://www.isna.ir/news/99061410090/مسئولان-باشگاه-استقلال-خودزنی-کردند-سعادتمند-اگر-استراماچونی\n",
      "1269 https://www.isna.ir/news/98051508035/برنامه-کامل-نوزدهمین-دوره-لیگ-برتر\n",
      "81 https://www.isna.ir/news/99021309405/معاون-سازمان-خصوصی-سازی-از-حضور-هواداران-در-باشگاه-استقلال\n",
      "835 https://www.isna.ir/news/99102317552/تیم-های-لیگ-برتری-هندبال-خوزستان-در-آستانه-انحلال\n"
     ]
    }
   ],
   "source": [
    "engineV03()"
   ]
  },
  {
   "cell_type": "code",
   "execution_count": null,
   "id": "e42cec9f",
   "metadata": {},
   "outputs": [],
   "source": []
  }
 ],
 "metadata": {
  "kernelspec": {
   "display_name": "Python 3",
   "language": "python",
   "name": "python3"
  },
  "language_info": {
   "codemirror_mode": {
    "name": "ipython",
    "version": 3
   },
   "file_extension": ".py",
   "mimetype": "text/x-python",
   "name": "python",
   "nbconvert_exporter": "python",
   "pygments_lexer": "ipython3",
   "version": "3.8.8"
  }
 },
 "nbformat": 4,
 "nbformat_minor": 5
}
