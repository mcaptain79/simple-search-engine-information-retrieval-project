{
 "cells": [
  {
   "cell_type": "code",
   "execution_count": 1,
   "id": "e47d2e1f",
   "metadata": {},
   "outputs": [],
   "source": [
    "import pandas as pd\n",
    "import math\n",
    "import pickle"
   ]
  },
  {
   "cell_type": "code",
   "execution_count": 2,
   "id": "97d526e7",
   "metadata": {},
   "outputs": [],
   "source": [
    "data = pd.read_excel('IR_Spring2021_ph12_7k.xlsx')"
   ]
  },
  {
   "cell_type": "code",
   "execution_count": 3,
   "id": "89e51489",
   "metadata": {},
   "outputs": [],
   "source": [
    "#class below is for holding single id and single url\n",
    "class holder:\n",
    "    def __init__(self,ID = 0,url = None):\n",
    "        self.ID = ID\n",
    "        self.url = url\n",
    "    def __eq__(self,obj):\n",
    "        return str(self.ID)+self.url == str(obj.ID)+obj.url\n",
    "    def __str__(self):\n",
    "        return str(self.ID)+' '+self.url\n"
   ]
  },
  {
   "cell_type": "code",
   "execution_count": 4,
   "id": "d2429f8e",
   "metadata": {},
   "outputs": [],
   "source": [
    "#class below is for holding term frequency and list of holder classess\n",
    "class termValue:\n",
    "    def __init__(self):\n",
    "        self.frequency = 0\n",
    "        self.holderList = []\n",
    "    def addHolder(self,newHolder):\n",
    "        if newHolder not in self.holderList:\n",
    "            self.holderList.append(newHolder)"
   ]
  },
  {
   "cell_type": "code",
   "execution_count": 5,
   "id": "d578a880",
   "metadata": {},
   "outputs": [],
   "source": [
    "#function below is for calculating frequency of each term\n",
    "def frequencyCalc(myDictionary):\n",
    "    for i in myDictionary:\n",
    "        myDictionary[i].frequency = len(myDictionary[i].holderList)"
   ]
  },
  {
   "cell_type": "code",
   "execution_count": 6,
   "id": "fa1cfd79",
   "metadata": {},
   "outputs": [
    {
     "data": {
      "text/plain": [
       "\"\\n#algorithm below is for retrieval of the dictionary\\nmyFile = open('dictionary.txt',encoding = 'UTF-8')\\ntheDictionary = {}\\nfor i in myFile:\\n    res = i.split('$')\\n    if res[0] not in theDictionary:\\n        theDictionary[res[0]] = termValue()\\n        myHolder = holder(res[1],res[2])\\n        theDictionary[res[0]].addHolder(myHolder)\\n    else:\\n        myHolder = holder(res[1],res[2])\\n        theDictionary[res[0]].addHolder(myHolder)\\nmyFile.close()\\n\""
      ]
     },
     "execution_count": 6,
     "metadata": {},
     "output_type": "execute_result"
    }
   ],
   "source": [
    "\"\"\"\n",
    "#algorithm below is for retrieval of the dictionary\n",
    "myFile = open('dictionary.txt',encoding = 'UTF-8')\n",
    "theDictionary = {}\n",
    "for i in myFile:\n",
    "    res = i.split('$')\n",
    "    if res[0] not in theDictionary:\n",
    "        theDictionary[res[0]] = termValue()\n",
    "        myHolder = holder(res[1],res[2])\n",
    "        theDictionary[res[0]].addHolder(myHolder)\n",
    "    else:\n",
    "        myHolder = holder(res[1],res[2])\n",
    "        theDictionary[res[0]].addHolder(myHolder)\n",
    "myFile.close()\n",
    "\"\"\""
   ]
  },
  {
   "cell_type": "code",
   "execution_count": 7,
   "id": "f06cd85b",
   "metadata": {},
   "outputs": [
    {
     "data": {
      "text/plain": [
       "\"\\n#algorithm above was inefficient it took about 5 minutes so saving and retrival using pickle is better\\npickle.dump(theDictionary,open('dictionary','ab'))\\n\""
      ]
     },
     "execution_count": 7,
     "metadata": {},
     "output_type": "execute_result"
    }
   ],
   "source": [
    "\"\"\"\n",
    "#algorithm above was inefficient it took about 5 minutes so saving and retrival using pickle is better\n",
    "pickle.dump(theDictionary,open('dictionary','ab'))\n",
    "\"\"\""
   ]
  },
  {
   "cell_type": "code",
   "execution_count": 8,
   "id": "7e2c8742",
   "metadata": {},
   "outputs": [],
   "source": [
    "#code below is for retrival our dictionary\n",
    "theDictionary = pickle.load(open('dictionary','rb'))"
   ]
  },
  {
   "cell_type": "code",
   "execution_count": 9,
   "id": "94e8371f",
   "metadata": {},
   "outputs": [],
   "source": [
    "frequencyCalc(theDictionary)"
   ]
  },
  {
   "cell_type": "code",
   "execution_count": 10,
   "id": "bae3f994",
   "metadata": {},
   "outputs": [],
   "source": [
    "#list below is just for saving list of words\n",
    "wordsList = []\n",
    "for i in theDictionary:\n",
    "    wordsList.append(i)"
   ]
  },
  {
   "cell_type": "code",
   "execution_count": 11,
   "id": "bbe4aa38",
   "metadata": {},
   "outputs": [],
   "source": [
    "#normalize 1 method\n",
    "def normalize1(myList):\n",
    "    \"\"\"\"\n",
    "    we should remove some specific characters eg: we do not save dot in the end of sentence with the last word\n",
    "    we just need to remove if these specific chars are at the last of our word\n",
    "    \"\"\"\n",
    "    for i in range(len(myList)):\n",
    "        if myList[i].endswith('.'):\n",
    "            myList[i] = myList[i].replace('.','')\n",
    "        elif myList[i].endswith('،'):\n",
    "            myList[i] = myList[i].replace('،','')\n",
    "        elif myList[i].endswith(':'):\n",
    "            myList[i] = myList[i].replace(':','')\n",
    "        else:\n",
    "            pass\n",
    "    #the two last members means end of message and it is in all docs so we do not need it\n",
    "    myList.pop()\n",
    "    myList.pop()"
   ]
  },
  {
   "cell_type": "code",
   "execution_count": 12,
   "id": "9648be04",
   "metadata": {},
   "outputs": [],
   "source": [
    "#algorithm below is saving documents and their bag of words in dictionary docid as key and list of words as value\n",
    "bagOfWordsDic = {}\n",
    "for i in range(len(data)):\n",
    "    docId = data['id'][i]\n",
    "    listOfwords = data['content'][i].split()\n",
    "    normalize1(listOfwords)\n",
    "    bagOfWordsDic[docId] = wordsList"
   ]
  },
  {
   "cell_type": "code",
   "execution_count": 26,
   "id": "aaff5fc4",
   "metadata": {},
   "outputs": [],
   "source": [
    "#function below is for calculating tf\n",
    "def tf_calculator(term,document):\n",
    "    documentBagOfWords = document.split()\n",
    "    normalize1(documentBagOfWords)\n",
    "    n = documentBagOfWords.count(term)\n",
    "    if n == 0:\n",
    "        return 0\n",
    "    return 1+math.log(n)"
   ]
  },
  {
   "cell_type": "code",
   "execution_count": 27,
   "id": "b42c81a4",
   "metadata": {},
   "outputs": [],
   "source": [
    "#function below is for calculating tf for a query\n",
    "def tf_calculatorV02(term,query):\n",
    "    queryBagOfWords = query.split()\n",
    "    n = queryBagOfWords.count(term)\n",
    "    if n == 0:\n",
    "        return 0\n",
    "    return 1+math.log(n)"
   ]
  },
  {
   "cell_type": "code",
   "execution_count": 28,
   "id": "6cfa78af",
   "metadata": {},
   "outputs": [],
   "source": [
    "#function below is for calculating idf\n",
    "def idf_calculator(term,N,myDictionary):\n",
    "    return math.log(N/myDictionary[term].frequency)"
   ]
  },
  {
   "cell_type": "code",
   "execution_count": 29,
   "id": "1b0a6915",
   "metadata": {},
   "outputs": [],
   "source": [
    "#function below is for calculating vector of a single document\n",
    "def createVector(document,myDictionary,N):\n",
    "    documentBagOfWords = document.split()\n",
    "    normalize1(documentBagOfWords)\n",
    "    resDict = {}\n",
    "    for i in documentBagOfWords:\n",
    "        resDict[i] = tf_calculator(i,document)*idf_calculator(i,N,myDictionary)\n",
    "    return resDict"
   ]
  },
  {
   "cell_type": "code",
   "execution_count": 30,
   "id": "3ea29b05",
   "metadata": {},
   "outputs": [],
   "source": [
    "#function below is for calculating vector for a query\n",
    "def createVectorV02(query,myDictionary,N):\n",
    "    queryBagOfWords = query.split()\n",
    "    resDict = {}\n",
    "    for i in queryBagOfWords:\n",
    "        resDict[i] = tf_calculatorV02(i,query)\n",
    "    return resDict"
   ]
  },
  {
   "cell_type": "code",
   "execution_count": 31,
   "id": "5a9cee76",
   "metadata": {},
   "outputs": [
    {
     "data": {
      "text/plain": [
       "\"\\n#algorithm below is for calculating all vector spaces\\nvectorDictionary = {}\\nfor i in range(len(data)):\\n    documentId = data['id'][i]\\n    documentUrl = data['url'][i]\\n    documentContent = data['content'][i]\\n    vectorDictionary[str(documentId)+' '+documentUrl] = createVector(documentContent,theDictionary,len(data))\\n\""
      ]
     },
     "execution_count": 31,
     "metadata": {},
     "output_type": "execute_result"
    }
   ],
   "source": [
    "\"\"\"\n",
    "#algorithm below is for calculating all vector spaces\n",
    "vectorDictionary = {}\n",
    "for i in range(len(data)):\n",
    "    documentId = data['id'][i]\n",
    "    documentUrl = data['url'][i]\n",
    "    documentContent = data['content'][i]\n",
    "    vectorDictionary[str(documentId)+' '+documentUrl] = createVector(documentContent,theDictionary,len(data))\n",
    "\"\"\""
   ]
  },
  {
   "cell_type": "code",
   "execution_count": 32,
   "id": "317bacc0",
   "metadata": {},
   "outputs": [],
   "source": [
    "#saving the vector dictionary\n",
    "#pickle.dump(vectorDictionary,open('vectorDictionary','ab'))"
   ]
  },
  {
   "cell_type": "code",
   "execution_count": 33,
   "id": "eb624ec2",
   "metadata": {},
   "outputs": [],
   "source": [
    "#loading vector dictionary\n",
    "vectorDictionary = pickle.load(open('vectorDictionary','rb'))"
   ]
  },
  {
   "cell_type": "code",
   "execution_count": 34,
   "id": "3a37246d",
   "metadata": {},
   "outputs": [],
   "source": [
    "#function below is for calculating size\n",
    "def size_calculate(vector):\n",
    "    res = 0\n",
    "    for i in vector:\n",
    "        res += math.pow(vector[i],2)\n",
    "    return math.sqrt(res)"
   ]
  },
  {
   "cell_type": "code",
   "execution_count": 35,
   "id": "ee13b41e",
   "metadata": {},
   "outputs": [],
   "source": [
    "#class below is for saving vectorid + similarity to a query\n",
    "class vectorSimilarity:\n",
    "    def __init__(self,similarityValue,vectorId):\n",
    "        self.similarityValue = similarityValue\n",
    "        self.vectorId = vectorId\n",
    "    def __str__(self):\n",
    "        return self.vectorId\n",
    "    def __lt__(self,obj):\n",
    "        return self.similarityValue < obj.similarityValue"
   ]
  },
  {
   "cell_type": "code",
   "execution_count": 36,
   "id": "63f8758b",
   "metadata": {},
   "outputs": [],
   "source": [
    "#calculating similarity between a document and query\n",
    "def cosineSimilarity(query,ID,URL,documentVectors,N):\n",
    "    queryVector = createVectorV02(query,theDictionary,N)\n",
    "    documentVector = documentVectors[str(ID)+' '+URL]\n",
    "    res = 0\n",
    "    for i in queryVector:\n",
    "        if i in documentVector:\n",
    "            res += queryVector[i]*documentVector[i]\n",
    "    return res/size_calculate(documentVector)"
   ]
  },
  {
   "cell_type": "code",
   "execution_count": 37,
   "id": "a2bc0157",
   "metadata": {},
   "outputs": [],
   "source": [
    "def engine():\n",
    "    query = input('enter query: ')\n",
    "    resList = []\n",
    "    for i in range(len(data)):\n",
    "        similarity = cosineSimilarity(query,data['id'][i],data['url'][i],vectorDictionary,len(data))\n",
    "        resList.append(vectorSimilarity(similarity,str(data['id'][i])+' '+data['url'][i],))\n",
    "    resList = sorted(resList,reverse = True)\n",
    "    for i in range(10):\n",
    "        print(resList[i])"
   ]
  },
  {
   "cell_type": "code",
   "execution_count": 39,
   "id": "7c9f73db",
   "metadata": {
    "scrolled": false
   },
   "outputs": [
    {
     "name": "stdout",
     "output_type": "stream",
     "text": [
      "enter query: تیم سپاهان فرصت\n",
      "811 https://www.isna.ir/news/99101208771/برتری-تیم-فولاد-مبارکه-سپاهان-در-مرحله-مقدماتی-لیگ-برتر-والیبال\n",
      "1139 https://www.isna.ir/news/98030401572/شکست-نزدیک-فوتبال-دانشجویی-ایران-برابر-شاگردان-قلعه-نویی\n",
      "1655 https://www.isna.ir/news/98120504157/شکایت-سپاهان-از-مدیرعامل-پرسپولیس\n",
      "767 https://www.isna.ir/news/99092116183/سرمربی-سپاهان-به-دنبال-نمایش-فوتبال-کلاسیک-هستیم\n",
      "96 https://www.isna.ir/news/99022316860/عطش-مان-برای-فوتبال-بیش-از-دیگران-است\n",
      "1024 https://www.isna.ir/news/99122317556/کاپیتان-تیم-ملی-سپاهانی-شد\n",
      "48 https://www.isna.ir/news/99012011411/تعطیلی-لیگ-هندبال-تصمیم-درستی-است\n",
      "1622 https://www.isna.ir/news/98112216716/امانوئل-سپاهان-تیم-بسیار-تهاجمی-است\n",
      "1480 https://www.isna.ir/news/98090805350/حضور-فتحی-در-اردوی-استقلال-پیش-از-بازی-با-سپاهان-آبی-ها-پاداش\n",
      "730 https://www.isna.ir/news/99091209903/تساوی-سایپا-و-تیم-ملی-جوانان-در-دیداری-دوستانه\n"
     ]
    }
   ],
   "source": [
    "engine()"
   ]
  },
  {
   "cell_type": "code",
   "execution_count": null,
   "id": "d4c3f23e",
   "metadata": {},
   "outputs": [],
   "source": []
  }
 ],
 "metadata": {
  "kernelspec": {
   "display_name": "Python 3",
   "language": "python",
   "name": "python3"
  },
  "language_info": {
   "codemirror_mode": {
    "name": "ipython",
    "version": 3
   },
   "file_extension": ".py",
   "mimetype": "text/x-python",
   "name": "python",
   "nbconvert_exporter": "python",
   "pygments_lexer": "ipython3",
   "version": "3.8.8"
  }
 },
 "nbformat": 4,
 "nbformat_minor": 5
}
