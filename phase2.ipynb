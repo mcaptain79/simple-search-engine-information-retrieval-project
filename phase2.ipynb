{
 "cells": [
  {
   "cell_type": "code",
   "execution_count": 6,
   "id": "e47d2e1f",
   "metadata": {},
   "outputs": [],
   "source": [
    "import pandas as pd"
   ]
  },
  {
   "cell_type": "code",
   "execution_count": 7,
   "id": "89e51489",
   "metadata": {},
   "outputs": [],
   "source": [
    "#class below is for holding single id and single url\n",
    "class holder:\n",
    "    def __init__(self,ID = 0,url = None):\n",
    "        self.ID = ID\n",
    "        self.url = url\n",
    "    def __eq__(self,obj):\n",
    "        return str(self.ID)+self.url == str(obj.ID)+obj.url\n",
    "    def __str__(self):\n",
    "        return str(self.ID)+' '+self.url\n"
   ]
  },
  {
   "cell_type": "code",
   "execution_count": 8,
   "id": "d2429f8e",
   "metadata": {},
   "outputs": [],
   "source": [
    "#class below is for holding term frequency and list of holder classess\n",
    "class termValue:\n",
    "    def __init__(self):\n",
    "        self.frequency = 0\n",
    "        self.holderList = []\n",
    "    def addHolder(self,newHolder):\n",
    "        if newHolder not in self.holderList:\n",
    "            self.holderList.append(newHolder)"
   ]
  },
  {
   "cell_type": "code",
   "execution_count": 9,
   "id": "d578a880",
   "metadata": {},
   "outputs": [],
   "source": [
    "#function below is for calculating frequency of each term\n",
    "def frequencyCalc(myDictionary):\n",
    "    for i in myDictionary:\n",
    "        myDictionary[i].frequency = len(myDictionary[i].holderList)"
   ]
  },
  {
   "cell_type": "code",
   "execution_count": 10,
   "id": "fa1cfd79",
   "metadata": {},
   "outputs": [],
   "source": [
    "#algorithm below is for retrieval of the dictionary\n",
    "myFile = open('dictionary.txt',encoding = 'UTF-8')\n",
    "theDictionary = {}\n",
    "for i in myFile:\n",
    "    res = i.split('$')\n",
    "    if res[0] not in theDictionary:\n",
    "        theDictionary[res[0]] = termValue()\n",
    "        myHolder = holder(res[1],res[2])\n",
    "        theDictionary[res[0]].addHolder(myHolder)\n",
    "    else:\n",
    "        myHolder = holder(res[1],res[2])\n",
    "        theDictionary[res[0]].addHolder(myHolder)\n",
    "myFile.close()"
   ]
  },
  {
   "cell_type": "code",
   "execution_count": 11,
   "id": "94e8371f",
   "metadata": {},
   "outputs": [],
   "source": [
    "frequencyCalc(theDictionary)"
   ]
  },
  {
   "cell_type": "code",
   "execution_count": 12,
   "id": "bae3f994",
   "metadata": {},
   "outputs": [],
   "source": [
    "#list below is just for saving list of words\n",
    "wordsList = []\n",
    "for i in theDictionary:\n",
    "    wordsList.append(i)"
   ]
  }
 ],
 "metadata": {
  "kernelspec": {
   "display_name": "Python 3",
   "language": "python",
   "name": "python3"
  },
  "language_info": {
   "codemirror_mode": {
    "name": "ipython",
    "version": 3
   },
   "file_extension": ".py",
   "mimetype": "text/x-python",
   "name": "python",
   "nbconvert_exporter": "python",
   "pygments_lexer": "ipython3",
   "version": "3.8.8"
  }
 },
 "nbformat": 4,
 "nbformat_minor": 5
}
