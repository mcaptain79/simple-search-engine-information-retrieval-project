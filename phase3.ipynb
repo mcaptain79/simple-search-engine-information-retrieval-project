{
 "cells": [
  {
   "cell_type": "code",
   "execution_count": 37,
   "id": "269219cc",
   "metadata": {},
   "outputs": [],
   "source": [
    "import pandas as pd\n",
    "import pickle\n",
    "import math"
   ]
  },
  {
   "cell_type": "code",
   "execution_count": 2,
   "id": "909e3ed6",
   "metadata": {},
   "outputs": [],
   "source": [
    "data11k = pd.read_excel('IR00_3_11k News.xlsx')\n",
    "data17k = pd.read_excel('IR00_3_17k News.xlsx')\n",
    "data20k = pd.read_excel('IR00_3_20k News.xlsx')"
   ]
  },
  {
   "cell_type": "code",
   "execution_count": 3,
   "id": "4f94582a",
   "metadata": {},
   "outputs": [],
   "source": [
    "#normalize 1 method\n",
    "def normalize1(myList):\n",
    "    \"\"\"\"\n",
    "    we should remove some specific characters eg: we do not save dot in the end of sentence with the last word\n",
    "    we just need to remove if these specific chars are at the last of our word\n",
    "    \"\"\"\n",
    "    for i in range(len(myList)):\n",
    "        if myList[i].endswith('.'):\n",
    "            myList[i] = myList[i].replace('.','')\n",
    "        elif myList[i].endswith('،'):\n",
    "            myList[i] = myList[i].replace('،','')\n",
    "        elif myList[i].endswith(':'):\n",
    "            myList[i] = myList[i].replace(':','')\n",
    "        else:\n",
    "            pass\n",
    "    #the two last members means end of message and it is in all docs so we do not need it\n",
    "    myList.pop()\n",
    "    myList.pop()"
   ]
  },
  {
   "cell_type": "code",
   "execution_count": 4,
   "id": "1b334df5",
   "metadata": {},
   "outputs": [],
   "source": [
    "#class below is for saving count if each category and total count for a term\n",
    "class categoryCount:\n",
    "    #politics and political are same also sport and sports are same\n",
    "    def __init__(self,sport = 0,political = 0,economy = 0,health = 0,culture = 0):\n",
    "        self.sport = sport\n",
    "        self.political = political\n",
    "        self.economy = economy\n",
    "        self.health = health\n",
    "        self.culture = culture\n",
    "        self.total = self.sport+self.political+self.economy+self.health+self.culture\n",
    "    def updateTotal(self):\n",
    "        self.total = self.sport+self.political+self.economy+self.health+self.culture\n",
    "    def __str__(self):\n",
    "        return str(self.sport)+' '+str(self.political)+' '+str(self.economy)+' '+str(self.health)+' '+str(self.culture)"
   ]
  },
  {
   "cell_type": "code",
   "execution_count": 5,
   "id": "fbc863e2",
   "metadata": {},
   "outputs": [],
   "source": [
    "#dictionary below is like term:(sport,political,economy,health,culture)\n",
    "#featureDictionary = {}"
   ]
  },
  {
   "cell_type": "code",
   "execution_count": 6,
   "id": "38e41ed0",
   "metadata": {},
   "outputs": [],
   "source": [
    "def updateDictionaryStatue(category,content,term):\n",
    "    if category == 'sport' or category == 'sports':\n",
    "        featureDictionary[term].sport += content.count(term)\n",
    "        featureDictionary[term].updateTotal()\n",
    "    elif category == 'political' or category == 'politics':\n",
    "        featureDictionary[term].political += content.count(term)\n",
    "        featureDictionary[term].updateTotal()\n",
    "    elif category == 'economy':\n",
    "        featureDictionary[term].economy += content.count(term)\n",
    "        featureDictionary[term].updateTotal()\n",
    "    elif category == 'culture':\n",
    "        featureDictionary[term].culture += content.count(term)\n",
    "        featureDictionary[term].updateTotal()\n",
    "    else:\n",
    "        featureDictionary[term].health += content.count(term)\n",
    "        featureDictionary[term].updateTotal()"
   ]
  },
  {
   "cell_type": "code",
   "execution_count": 7,
   "id": "4a473b77",
   "metadata": {},
   "outputs": [],
   "source": [
    "#function below if for creating feature dictionary\n",
    "def createFeatureDictionary(data):\n",
    "    for i in range(len(data)):\n",
    "        category = data['topic'][i]\n",
    "        content = data['content'][i].split()\n",
    "        if len(content) > 2:\n",
    "            normalize1(content)\n",
    "            for i in content:\n",
    "                if i not in featureDictionary:\n",
    "                    featureDictionary[i] = categoryCount()\n",
    "                    updateDictionaryStatue(category,content,i)\n",
    "                else:\n",
    "                    updateDictionaryStatue(category,content,i)"
   ]
  },
  {
   "cell_type": "code",
   "execution_count": 8,
   "id": "2cfae324",
   "metadata": {},
   "outputs": [],
   "source": [
    "#createFeatureDictionary(data11k)"
   ]
  },
  {
   "cell_type": "code",
   "execution_count": 9,
   "id": "1341f1f7",
   "metadata": {},
   "outputs": [],
   "source": [
    "#createFeatureDictionary(data17k)"
   ]
  },
  {
   "cell_type": "code",
   "execution_count": 10,
   "id": "a5995fe1",
   "metadata": {},
   "outputs": [],
   "source": [
    "#createFeatureDictionary(data20k)"
   ]
  },
  {
   "cell_type": "code",
   "execution_count": 11,
   "id": "2995ded0",
   "metadata": {},
   "outputs": [],
   "source": [
    "#pickle.dump(featureDictionary,open('featureDictionary','ab'))"
   ]
  },
  {
   "cell_type": "code",
   "execution_count": 12,
   "id": "04549b75",
   "metadata": {},
   "outputs": [],
   "source": [
    "featureDictionary = pickle.load(open('featureDictionary','rb'))"
   ]
  },
  {
   "cell_type": "code",
   "execution_count": 13,
   "id": "3c430efe",
   "metadata": {},
   "outputs": [
    {
     "data": {
      "text/plain": [
       "\"\\ncategories = {'sport':0,'political':0,'economy':0,'health':0,'culture':0}\\ndef updateCategory(data):\\n    for i in range(len(data)):\\n        category = data['topic'][i]\\n        if category == 'sport' or category == 'sports':\\n            categories['sport'] += 1\\n        elif category == 'political' or category == 'politics':\\n            categories['political'] += 1\\n        elif category == 'economy':\\n            categories['economy'] += 1\\n        elif category == 'culture':\\n            categories['culture'] += 1\\n        else:\\n            categories['health'] += 1\\n\""
      ]
     },
     "execution_count": 13,
     "metadata": {},
     "output_type": "execute_result"
    }
   ],
   "source": [
    "\"\"\"\n",
    "categories = {'sport':0,'political':0,'economy':0,'health':0,'culture':0}\n",
    "def updateCategory(data):\n",
    "    for i in range(len(data)):\n",
    "        category = data['topic'][i]\n",
    "        if category == 'sport' or category == 'sports':\n",
    "            categories['sport'] += 1\n",
    "        elif category == 'political' or category == 'politics':\n",
    "            categories['political'] += 1\n",
    "        elif category == 'economy':\n",
    "            categories['economy'] += 1\n",
    "        elif category == 'culture':\n",
    "            categories['culture'] += 1\n",
    "        else:\n",
    "            categories['health'] += 1\n",
    "\"\"\""
   ]
  },
  {
   "cell_type": "code",
   "execution_count": 14,
   "id": "e877a4ba",
   "metadata": {},
   "outputs": [],
   "source": [
    "#updateCategory(data11k)\n",
    "#updateCategory(data17k)\n",
    "#updateCategory(data20k)"
   ]
  },
  {
   "cell_type": "code",
   "execution_count": 15,
   "id": "4d18447d",
   "metadata": {},
   "outputs": [],
   "source": [
    "#pickle.dump(categories,open('categories','ab'))"
   ]
  },
  {
   "cell_type": "code",
   "execution_count": 16,
   "id": "670890b0",
   "metadata": {},
   "outputs": [],
   "source": [
    "categories = pickle.load(open('categories','rb'))"
   ]
  },
  {
   "cell_type": "code",
   "execution_count": 17,
   "id": "d4250ff3",
   "metadata": {},
   "outputs": [
    {
     "name": "stdout",
     "output_type": "stream",
     "text": [
      "{'sport': 0.2369109686182857, 'political': 0.23938794670501987, 'economy': 0.2958390763268812, 'health': 0.03733445196859831, 'culture': 0.1905275563812149}\n"
     ]
    }
   ],
   "source": [
    "#calculating probalility of each category\n",
    "totalNumOfDocs = 0\n",
    "for i in categories:\n",
    "    totalNumOfDocs += categories[i]\n",
    "for i in categories:\n",
    "    categories[i] /= totalNumOfDocs\n",
    "print(categories)"
   ]
  },
  {
   "cell_type": "code",
   "execution_count": 27,
   "id": "3c555ee8",
   "metadata": {},
   "outputs": [
    {
     "data": {
      "text/plain": [
       "\"\\n#calculating num of words in each category\\nsportWordsNumber = 0\\npoliticalWordsNumber = 0\\neconomyWordsNumber = 0\\nhealthWordsNumber = 0\\ncultureWordsNumber = 0\\ndef calculateWordsNum(data):\\n    global sportWordsNumber,politicalWordsNumber,economyWordsNumber,healthWordsNumber,cultureWordsNumber\\n    for i in range(len(data)):\\n        category = data['topic'][i]\\n        content = data['content'][i].split()\\n        if len(content) > 2:\\n            normalize1(content)\\n        if category == 'sport' or category == 'sports':\\n            sportWordsNumber += len(content)\\n        elif category == 'politics' or category == 'political':\\n            politicalWordsNumber += len(content)\\n        elif category == 'economy':\\n            economyWordsNumber += len(content)\\n        elif category == 'culture':\\n            cultureWordsNumber += len(content)\\n        else:\\n            healthWordsNumber += len(content)\\n\""
      ]
     },
     "execution_count": 27,
     "metadata": {},
     "output_type": "execute_result"
    }
   ],
   "source": [
    "\"\"\"\n",
    "#calculating num of words in each category\n",
    "sportWordsNumber = 0\n",
    "politicalWordsNumber = 0\n",
    "economyWordsNumber = 0\n",
    "healthWordsNumber = 0\n",
    "cultureWordsNumber = 0\n",
    "def calculateWordsNum(data):\n",
    "    global sportWordsNumber,politicalWordsNumber,economyWordsNumber,healthWordsNumber,cultureWordsNumber\n",
    "    for i in range(len(data)):\n",
    "        category = data['topic'][i]\n",
    "        content = data['content'][i].split()\n",
    "        if len(content) > 2:\n",
    "            normalize1(content)\n",
    "        if category == 'sport' or category == 'sports':\n",
    "            sportWordsNumber += len(content)\n",
    "        elif category == 'politics' or category == 'political':\n",
    "            politicalWordsNumber += len(content)\n",
    "        elif category == 'economy':\n",
    "            economyWordsNumber += len(content)\n",
    "        elif category == 'culture':\n",
    "            cultureWordsNumber += len(content)\n",
    "        else:\n",
    "            healthWordsNumber += len(content)\n",
    "\"\"\""
   ]
  },
  {
   "cell_type": "code",
   "execution_count": 28,
   "id": "aacb9882",
   "metadata": {},
   "outputs": [],
   "source": [
    "#calculateWordsNum(data11k)\n",
    "#calculateWordsNum(data17k)\n",
    "#calculateWordsNum(data20k)"
   ]
  },
  {
   "cell_type": "code",
   "execution_count": 29,
   "id": "d9689851",
   "metadata": {},
   "outputs": [],
   "source": [
    "#pickle.dump(sportWordsNumber,open('sportWordsNumber','ab'))\n",
    "#pickle.dump(politicalWordsNumber,open('politicalWordsNumber','ab'))\n",
    "#pickle.dump(economyWordsNumber,open('economyWordsNumber','ab'))\n",
    "#pickle.dump(healthWordsNumber,open('healthWordsNumber','ab'))\n",
    "#pickle.dump(cultureWordsNumber,open('cultureWordsNumber','ab'))"
   ]
  },
  {
   "cell_type": "code",
   "execution_count": 30,
   "id": "72cad7b9",
   "metadata": {},
   "outputs": [],
   "source": [
    "sportWordsNumber = pickle.load(open('sportWordsNumber','rb'))\n",
    "politicalWordsNumber = pickle.load(open('politicalWordsNumber','rb'))\n",
    "economyWordsNumber = pickle.load(open('economyWordsNumber','rb'))\n",
    "healthWordsNumber = pickle.load(open('healthWordsNumber','rb'))\n",
    "cultureWordsNumber = pickle.load(open('cultureWordsNumber','rb'))"
   ]
  },
  {
   "cell_type": "code",
   "execution_count": 36,
   "id": "b587af3f",
   "metadata": {
    "scrolled": true
   },
   "outputs": [
    {
     "name": "stdout",
     "output_type": "stream",
     "text": [
      "sport 0.7\n",
      "health 0.6\n",
      "culture 0.3\n"
     ]
    }
   ],
   "source": [
    "#using simple naive Base for classification\n",
    "class naiveBayes():\n",
    "    def __init__(self,category,probability):\n",
    "        self.category = category\n",
    "        self.probability = probability\n",
    "    def __str__(self):\n",
    "        return self.category+' '+str(self.probability)\n",
    "    def __lt__(self,obj):\n",
    "        return self.probability > obj.probability"
   ]
  },
  {
   "cell_type": "code",
   "execution_count": null,
   "id": "db9652b9",
   "metadata": {},
   "outputs": [],
   "source": []
  }
 ],
 "metadata": {
  "kernelspec": {
   "display_name": "Python 3",
   "language": "python",
   "name": "python3"
  },
  "language_info": {
   "codemirror_mode": {
    "name": "ipython",
    "version": 3
   },
   "file_extension": ".py",
   "mimetype": "text/x-python",
   "name": "python",
   "nbconvert_exporter": "python",
   "pygments_lexer": "ipython3",
   "version": "3.8.8"
  }
 },
 "nbformat": 4,
 "nbformat_minor": 5
}
