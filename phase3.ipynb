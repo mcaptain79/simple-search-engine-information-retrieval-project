{
 "cells": [
  {
   "cell_type": "code",
   "execution_count": 1,
   "id": "269219cc",
   "metadata": {},
   "outputs": [],
   "source": [
    "import pandas as pd\n",
    "import pickle\n",
    "import math"
   ]
  },
  {
   "cell_type": "code",
   "execution_count": 2,
   "id": "909e3ed6",
   "metadata": {},
   "outputs": [],
   "source": [
    "phase1Data = pd.read_excel('IR_Spring2021_ph12_7k.xlsx')\n",
    "data11k = pd.read_excel('IR00_3_11k News.xlsx')\n",
    "data17k = pd.read_excel('IR00_3_17k News.xlsx')\n",
    "data20k = pd.read_excel('IR00_3_20k News.xlsx')"
   ]
  },
  {
   "cell_type": "code",
   "execution_count": 3,
   "id": "4f94582a",
   "metadata": {},
   "outputs": [],
   "source": [
    "#normalize 1 method\n",
    "def normalize1(myList):\n",
    "    \"\"\"\"\n",
    "    we should remove some specific characters eg: we do not save dot in the end of sentence with the last word\n",
    "    we just need to remove if these specific chars are at the last of our word\n",
    "    \"\"\"\n",
    "    for i in range(len(myList)):\n",
    "        if myList[i].endswith('.'):\n",
    "            myList[i] = myList[i].replace('.','')\n",
    "        elif myList[i].endswith('،'):\n",
    "            myList[i] = myList[i].replace('،','')\n",
    "        elif myList[i].endswith(':'):\n",
    "            myList[i] = myList[i].replace(':','')\n",
    "        else:\n",
    "            pass\n",
    "    #the two last members means end of message and it is in all docs so we do not need it\n",
    "    myList.pop()\n",
    "    myList.pop()"
   ]
  },
  {
   "cell_type": "code",
   "execution_count": 4,
   "id": "1b334df5",
   "metadata": {},
   "outputs": [],
   "source": [
    "#class below is for saving count if each category and total count for a term\n",
    "class categoryCount:\n",
    "    #politics and political are same also sport and sports are same\n",
    "    def __init__(self,sport = 0,political = 0,economy = 0,health = 0,culture = 0):\n",
    "        self.sport = sport\n",
    "        self.political = political\n",
    "        self.economy = economy\n",
    "        self.health = health\n",
    "        self.culture = culture\n",
    "        self.total = self.sport+self.political+self.economy+self.health+self.culture\n",
    "    def updateTotal(self):\n",
    "        self.total = self.sport+self.political+self.economy+self.health+self.culture\n",
    "    def __str__(self):\n",
    "        return str(self.sport)+' '+str(self.political)+' '+str(self.economy)+' '+str(self.health)+' '+str(self.culture)"
   ]
  },
  {
   "cell_type": "code",
   "execution_count": 5,
   "id": "fbc863e2",
   "metadata": {},
   "outputs": [],
   "source": [
    "#dictionary below is like term:(sport,political,economy,health,culture)\n",
    "#featureDictionary = {}"
   ]
  },
  {
   "cell_type": "code",
   "execution_count": 6,
   "id": "38e41ed0",
   "metadata": {},
   "outputs": [],
   "source": [
    "def updateDictionaryStatue(category,content,term):\n",
    "    if category == 'sport' or category == 'sports':\n",
    "        featureDictionary[term].sport += content.count(term)\n",
    "        featureDictionary[term].updateTotal()\n",
    "    elif category == 'political' or category == 'politics':\n",
    "        featureDictionary[term].political += content.count(term)\n",
    "        featureDictionary[term].updateTotal()\n",
    "    elif category == 'economy':\n",
    "        featureDictionary[term].economy += content.count(term)\n",
    "        featureDictionary[term].updateTotal()\n",
    "    elif category == 'culture':\n",
    "        featureDictionary[term].culture += content.count(term)\n",
    "        featureDictionary[term].updateTotal()\n",
    "    else:\n",
    "        featureDictionary[term].health += content.count(term)\n",
    "        featureDictionary[term].updateTotal()"
   ]
  },
  {
   "cell_type": "code",
   "execution_count": 7,
   "id": "4a473b77",
   "metadata": {},
   "outputs": [],
   "source": [
    "#function below if for creating feature dictionary\n",
    "def createFeatureDictionary(data):\n",
    "    for i in range(len(data)):\n",
    "        category = data['topic'][i]\n",
    "        content = data['content'][i].split()\n",
    "        if len(content) > 2:\n",
    "            normalize1(content)\n",
    "            for i in content:\n",
    "                if i not in featureDictionary:\n",
    "                    featureDictionary[i] = categoryCount()\n",
    "                    updateDictionaryStatue(category,content,i)\n",
    "                else:\n",
    "                    updateDictionaryStatue(category,content,i)"
   ]
  },
  {
   "cell_type": "code",
   "execution_count": 8,
   "id": "2cfae324",
   "metadata": {},
   "outputs": [],
   "source": [
    "#createFeatureDictionary(data11k)"
   ]
  },
  {
   "cell_type": "code",
   "execution_count": 9,
   "id": "1341f1f7",
   "metadata": {},
   "outputs": [],
   "source": [
    "#createFeatureDictionary(data17k)"
   ]
  },
  {
   "cell_type": "code",
   "execution_count": 10,
   "id": "a5995fe1",
   "metadata": {},
   "outputs": [],
   "source": [
    "#createFeatureDictionary(data20k)"
   ]
  },
  {
   "cell_type": "code",
   "execution_count": 11,
   "id": "2995ded0",
   "metadata": {},
   "outputs": [],
   "source": [
    "#pickle.dump(featureDictionary,open('featureDictionary','ab'))"
   ]
  },
  {
   "cell_type": "code",
   "execution_count": 12,
   "id": "04549b75",
   "metadata": {},
   "outputs": [],
   "source": [
    "featureDictionary = pickle.load(open('featureDictionary','rb'))"
   ]
  },
  {
   "cell_type": "code",
   "execution_count": 13,
   "id": "3c430efe",
   "metadata": {},
   "outputs": [
    {
     "data": {
      "text/plain": [
       "\"\\ncategories = {'sport':0,'political':0,'economy':0,'health':0,'culture':0}\\ndef updateCategory(data):\\n    for i in range(len(data)):\\n        category = data['topic'][i]\\n        if category == 'sport' or category == 'sports':\\n            categories['sport'] += 1\\n        elif category == 'political' or category == 'politics':\\n            categories['political'] += 1\\n        elif category == 'economy':\\n            categories['economy'] += 1\\n        elif category == 'culture':\\n            categories['culture'] += 1\\n        else:\\n            categories['health'] += 1\\n\""
      ]
     },
     "execution_count": 13,
     "metadata": {},
     "output_type": "execute_result"
    }
   ],
   "source": [
    "\"\"\"\n",
    "categories = {'sport':0,'political':0,'economy':0,'health':0,'culture':0}\n",
    "def updateCategory(data):\n",
    "    for i in range(len(data)):\n",
    "        category = data['topic'][i]\n",
    "        if category == 'sport' or category == 'sports':\n",
    "            categories['sport'] += 1\n",
    "        elif category == 'political' or category == 'politics':\n",
    "            categories['political'] += 1\n",
    "        elif category == 'economy':\n",
    "            categories['economy'] += 1\n",
    "        elif category == 'culture':\n",
    "            categories['culture'] += 1\n",
    "        else:\n",
    "            categories['health'] += 1\n",
    "\"\"\""
   ]
  },
  {
   "cell_type": "code",
   "execution_count": 14,
   "id": "e877a4ba",
   "metadata": {},
   "outputs": [],
   "source": [
    "#updateCategory(data11k)\n",
    "#updateCategory(data17k)\n",
    "#updateCategory(data20k)"
   ]
  },
  {
   "cell_type": "code",
   "execution_count": 15,
   "id": "4d18447d",
   "metadata": {},
   "outputs": [],
   "source": [
    "#pickle.dump(categories,open('categories','ab'))"
   ]
  },
  {
   "cell_type": "code",
   "execution_count": 16,
   "id": "670890b0",
   "metadata": {},
   "outputs": [],
   "source": [
    "categories = pickle.load(open('categories','rb'))"
   ]
  },
  {
   "cell_type": "code",
   "execution_count": 17,
   "id": "d4250ff3",
   "metadata": {},
   "outputs": [
    {
     "name": "stdout",
     "output_type": "stream",
     "text": [
      "{'sport': 0.2369109686182857, 'political': 0.23938794670501987, 'economy': 0.2958390763268812, 'health': 0.03733445196859831, 'culture': 0.1905275563812149}\n"
     ]
    }
   ],
   "source": [
    "#calculating probalility of each category\n",
    "totalNumOfDocs = 0\n",
    "for i in categories:\n",
    "    totalNumOfDocs += categories[i]\n",
    "for i in categories:\n",
    "    categories[i] /= totalNumOfDocs\n",
    "print(categories)"
   ]
  },
  {
   "cell_type": "code",
   "execution_count": 18,
   "id": "3c555ee8",
   "metadata": {},
   "outputs": [
    {
     "data": {
      "text/plain": [
       "\"\\n#calculating num of words in each category\\nsportWordsNumber = 0\\npoliticalWordsNumber = 0\\neconomyWordsNumber = 0\\nhealthWordsNumber = 0\\ncultureWordsNumber = 0\\ndef calculateWordsNum(data):\\n    global sportWordsNumber,politicalWordsNumber,economyWordsNumber,healthWordsNumber,cultureWordsNumber\\n    for i in range(len(data)):\\n        category = data['topic'][i]\\n        content = data['content'][i].split()\\n        if len(content) > 2:\\n            normalize1(content)\\n        if category == 'sport' or category == 'sports':\\n            sportWordsNumber += len(content)\\n        elif category == 'politics' or category == 'political':\\n            politicalWordsNumber += len(content)\\n        elif category == 'economy':\\n            economyWordsNumber += len(content)\\n        elif category == 'culture':\\n            cultureWordsNumber += len(content)\\n        else:\\n            healthWordsNumber += len(content)\\n\""
      ]
     },
     "execution_count": 18,
     "metadata": {},
     "output_type": "execute_result"
    }
   ],
   "source": [
    "\"\"\"\n",
    "#calculating num of words in each category\n",
    "sportWordsNumber = 0\n",
    "politicalWordsNumber = 0\n",
    "economyWordsNumber = 0\n",
    "healthWordsNumber = 0\n",
    "cultureWordsNumber = 0\n",
    "def calculateWordsNum(data):\n",
    "    global sportWordsNumber,politicalWordsNumber,economyWordsNumber,healthWordsNumber,cultureWordsNumber\n",
    "    for i in range(len(data)):\n",
    "        category = data['topic'][i]\n",
    "        content = data['content'][i].split()\n",
    "        if len(content) > 2:\n",
    "            normalize1(content)\n",
    "        if category == 'sport' or category == 'sports':\n",
    "            sportWordsNumber += len(content)\n",
    "        elif category == 'politics' or category == 'political':\n",
    "            politicalWordsNumber += len(content)\n",
    "        elif category == 'economy':\n",
    "            economyWordsNumber += len(content)\n",
    "        elif category == 'culture':\n",
    "            cultureWordsNumber += len(content)\n",
    "        else:\n",
    "            healthWordsNumber += len(content)\n",
    "\"\"\""
   ]
  },
  {
   "cell_type": "code",
   "execution_count": 19,
   "id": "aacb9882",
   "metadata": {},
   "outputs": [],
   "source": [
    "#calculateWordsNum(data11k)\n",
    "#calculateWordsNum(data17k)\n",
    "#calculateWordsNum(data20k)"
   ]
  },
  {
   "cell_type": "code",
   "execution_count": 20,
   "id": "d9689851",
   "metadata": {},
   "outputs": [],
   "source": [
    "#pickle.dump(sportWordsNumber,open('sportWordsNumber','ab'))\n",
    "#pickle.dump(politicalWordsNumber,open('politicalWordsNumber','ab'))\n",
    "#pickle.dump(economyWordsNumber,open('economyWordsNumber','ab'))\n",
    "#pickle.dump(healthWordsNumber,open('healthWordsNumber','ab'))\n",
    "#pickle.dump(cultureWordsNumber,open('cultureWordsNumber','ab'))"
   ]
  },
  {
   "cell_type": "code",
   "execution_count": 21,
   "id": "72cad7b9",
   "metadata": {},
   "outputs": [],
   "source": [
    "sportWordsNumber = pickle.load(open('sportWordsNumber','rb'))\n",
    "politicalWordsNumber = pickle.load(open('politicalWordsNumber','rb'))\n",
    "economyWordsNumber = pickle.load(open('economyWordsNumber','rb'))\n",
    "healthWordsNumber = pickle.load(open('healthWordsNumber','rb'))\n",
    "cultureWordsNumber = pickle.load(open('cultureWordsNumber','rb'))"
   ]
  },
  {
   "cell_type": "code",
   "execution_count": 22,
   "id": "b587af3f",
   "metadata": {
    "scrolled": true
   },
   "outputs": [],
   "source": [
    "#using simple naive Base for classification\n",
    "class naiveBayes():\n",
    "    def __init__(self,category,probability):\n",
    "        self.category = category\n",
    "        self.probability = probability\n",
    "    def __str__(self):\n",
    "        return self.category+' '+str(self.probability)\n",
    "    def __lt__(self,obj):\n",
    "        return self.probability > obj.probability"
   ]
  },
  {
   "cell_type": "code",
   "execution_count": 23,
   "id": "db9652b9",
   "metadata": {},
   "outputs": [],
   "source": [
    "#functions below are for calculating probability of each query for each class for queries\n",
    "def sportProbability(query,alfa):\n",
    "    queryWords = query.split()\n",
    "    probability = 0\n",
    "    probability += math.log(categories['sport'])\n",
    "    for i in queryWords:\n",
    "        if i in featureDictionary:\n",
    "            probability += math.log((featureDictionary[i].sport+alfa)/sportWordsNumber)\n",
    "    return naiveBayes('sport',probability)\n",
    "def politicalProbability(query,alfa):\n",
    "    queryWords = query.split()\n",
    "    probability = 0\n",
    "    probability += math.log(categories['political'])\n",
    "    for i in queryWords:\n",
    "        if i in featureDictionary:\n",
    "            probability += math.log((featureDictionary[i].political+alfa)/politicalWordsNumber)\n",
    "    return naiveBayes('political',probability)\n",
    "def economyProbability(query,alfa):\n",
    "    queryWords = query.split()\n",
    "    probability = 0\n",
    "    probability += math.log(categories['economy'])\n",
    "    for i in queryWords:\n",
    "        if i in featureDictionary:\n",
    "            probability += math.log((featureDictionary[i].economy+alfa)/economyWordsNumber)\n",
    "    return naiveBayes('economy',probability)\n",
    "def healthProbability(query,alfa):\n",
    "    queryWords = query.split()\n",
    "    probability = 0\n",
    "    probability += math.log(categories['health'])\n",
    "    for i in queryWords:\n",
    "        if i in featureDictionary:\n",
    "            probability += math.log((featureDictionary[i].health+alfa)/healthWordsNumber)\n",
    "    return naiveBayes('health',probability)\n",
    "def cultureProbability(query,alfa):\n",
    "    queryWords = query.split()\n",
    "    probability = 0\n",
    "    probability += math.log(categories['culture'])\n",
    "    for i in queryWords:\n",
    "        if i in featureDictionary:\n",
    "            probability += math.log((featureDictionary[i].culture+alfa)/cultureWordsNumber)\n",
    "    return naiveBayes('culture',probability)"
   ]
  },
  {
   "cell_type": "code",
   "execution_count": 24,
   "id": "48ad4a9f",
   "metadata": {},
   "outputs": [],
   "source": [
    "#functions below are for calculating probability of each query for each class for documents\n",
    "def sportProbability2(doc,alfa):\n",
    "    docWords = doc.split()\n",
    "    noramlize1(docWords)\n",
    "    probability = 0\n",
    "    probability += math.log(categories['sport'])\n",
    "    for i in docWords:\n",
    "        if i in featureDictionary:\n",
    "            probability += math.log((featureDictionary[i].sport+alfa)/sportWordsNumber)\n",
    "    return naiveBayes('sport',probability)\n",
    "def politicalProbability2(doc,alfa):\n",
    "    docWords = doc.split()\n",
    "    noramlize1(docWords)\n",
    "    probability = 0\n",
    "    probability += math.log(categories['political'])\n",
    "    for i in docWords:\n",
    "        if i in featureDictionary:\n",
    "            probability += math.log((featureDictionary[i].political+alfa)/politicalWordsNumber)\n",
    "    return naiveBayes('political',probability)\n",
    "def economyProbability2(doc,alfa):\n",
    "    docWords = doc.split()\n",
    "    noramlize1(docWords)\n",
    "    probability = 0\n",
    "    probability += math.log(categories['economy'])\n",
    "    for i in docWords:\n",
    "        if i in featureDictionary:\n",
    "            probability += math.log((featureDictionary[i].economy+alfa)/economyWordsNumber)\n",
    "    return naiveBayes('economy',probability)\n",
    "def healthProbability2(doc,alfa):\n",
    "    docWords = doc.split()\n",
    "    noramlize1(docWords)\n",
    "    probability = 0\n",
    "    probability += math.log(categories['health'])\n",
    "    for i in docWords:\n",
    "        if i in featureDictionary:\n",
    "            probability += math.log((featureDictionary[i].health+alfa)/healthWordsNumber)\n",
    "    return naiveBayes('health',probability)\n",
    "def cultureProbability2(doc,alfa):\n",
    "    docWords = doc.split()\n",
    "    noramlize1(docWords)\n",
    "    probability = 0\n",
    "    probability += math.log(categories['culture'])\n",
    "    for i in docWords:\n",
    "        if i in featureDictionary:\n",
    "            probability += math.log((featureDictionary[i].culture+alfa)/cultureWordsNumber)\n",
    "    return naiveBayes('culture',probability)"
   ]
  },
  {
   "cell_type": "code",
   "execution_count": 25,
   "id": "930071f2",
   "metadata": {},
   "outputs": [],
   "source": [
    "def engine():\n",
    "    query = input('enter a query: ')\n",
    "    queryWords = query.split()\n",
    "    termsInDic = 0\n",
    "    for i in queryWords:\n",
    "        if i in featureDictionary:\n",
    "            termsInDic += 1\n",
    "    if termsInDic == 0:\n",
    "        print('no result.....')\n",
    "        return\n",
    "    resList = []\n",
    "    resList.append(sportProbability(query,0.1))\n",
    "    resList.append(politicalProbability(query,0.1))\n",
    "    resList.append(economyProbability(query,0.1))\n",
    "    resList.append(healthProbability(query,0.1))\n",
    "    resList.append(cultureProbability(query,0.1))\n",
    "    resList = sorted(resList)\n",
    "    print(resList[0].category)"
   ]
  },
  {
   "cell_type": "code",
   "execution_count": 26,
   "id": "f10f1723",
   "metadata": {
    "scrolled": false
   },
   "outputs": [
    {
     "name": "stdout",
     "output_type": "stream",
     "text": [
      "enter a query: تیم سپاهان فرصت\n",
      "sport\n"
     ]
    }
   ],
   "source": [
    "engine()"
   ]
  },
  {
   "cell_type": "code",
   "execution_count": 27,
   "id": "d6056679",
   "metadata": {},
   "outputs": [],
   "source": [
    "#phase1Labled = {}"
   ]
  },
  {
   "cell_type": "code",
   "execution_count": 28,
   "id": "8e3c393c",
   "metadata": {},
   "outputs": [],
   "source": [
    "#function below is for labling a data set\n",
    "def createLabel(myData):\n",
    "    for i in range(len(myData)):\n",
    "        ID = myData['id'][i]\n",
    "        url = myData['url'][i]\n",
    "        content = myData['content'][i]\n",
    "        resList = []\n",
    "        resList.append(sportProbability(content,0.1))\n",
    "        resList.append(politicalProbability(content,0.1))\n",
    "        resList.append(economyProbability(content,0.1))\n",
    "        resList.append(healthProbability(content,0.1))\n",
    "        resList.append(cultureProbability(content,0.1))\n",
    "        resList = sorted(resList)\n",
    "        phase1Labled[ID] = [url,resList[0].category]"
   ]
  },
  {
   "cell_type": "code",
   "execution_count": 29,
   "id": "7c281ed5",
   "metadata": {},
   "outputs": [],
   "source": [
    "#createLabel(phase1Data)"
   ]
  },
  {
   "cell_type": "code",
   "execution_count": 30,
   "id": "d409be54",
   "metadata": {},
   "outputs": [],
   "source": [
    "#pickle.dump(phase1Labled,open('phase1Labled','ab'))"
   ]
  },
  {
   "cell_type": "code",
   "execution_count": 31,
   "id": "df5201b3",
   "metadata": {},
   "outputs": [],
   "source": [
    "phase1Labled = pickle.load(open('phase1Labled','rb'))"
   ]
  },
  {
   "cell_type": "code",
   "execution_count": 33,
   "id": "30b70814",
   "metadata": {},
   "outputs": [
    {
     "name": "stdout",
     "output_type": "stream",
     "text": [
      "enter a doc number to see a label: 4638\n",
      "economy\n",
      "https://www.isna.ir/news/98040200986/دلار-و-یورو-چند\n"
     ]
    }
   ],
   "source": [
    "docNumber = int(input('enter a doc number to see a label: '))\n",
    "if docNumber < 1 or docNumber > len(phase1Data):\n",
    "    print('no such a document')\n",
    "else:\n",
    "    print(phase1Labled[docNumber][1])\n",
    "    print(phase1Labled[docNumber][0])"
   ]
  }
 ],
 "metadata": {
  "kernelspec": {
   "display_name": "Python 3",
   "language": "python",
   "name": "python3"
  },
  "language_info": {
   "codemirror_mode": {
    "name": "ipython",
    "version": 3
   },
   "file_extension": ".py",
   "mimetype": "text/x-python",
   "name": "python",
   "nbconvert_exporter": "python",
   "pygments_lexer": "ipython3",
   "version": "3.8.8"
  }
 },
 "nbformat": 4,
 "nbformat_minor": 5
}
