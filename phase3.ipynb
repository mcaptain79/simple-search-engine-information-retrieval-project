{
 "cells": [
  {
   "cell_type": "code",
   "execution_count": 2,
   "id": "269219cc",
   "metadata": {},
   "outputs": [],
   "source": [
    "import pandas as pd\n",
    "import pickle"
   ]
  },
  {
   "cell_type": "code",
   "execution_count": 3,
   "id": "909e3ed6",
   "metadata": {},
   "outputs": [],
   "source": [
    "data11k = pd.read_excel('IR00_3_11k News.xlsx')\n",
    "data17k = pd.read_excel('IR00_3_17k News.xlsx')\n",
    "data20k = pd.read_excel('IR00_3_20k News.xlsx')"
   ]
  }
 ],
 "metadata": {
  "kernelspec": {
   "display_name": "Python 3",
   "language": "python",
   "name": "python3"
  },
  "language_info": {
   "codemirror_mode": {
    "name": "ipython",
    "version": 3
   },
   "file_extension": ".py",
   "mimetype": "text/x-python",
   "name": "python",
   "nbconvert_exporter": "python",
   "pygments_lexer": "ipython3",
   "version": "3.8.8"
  }
 },
 "nbformat": 4,
 "nbformat_minor": 5
}
